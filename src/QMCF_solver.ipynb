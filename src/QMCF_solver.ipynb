{
 "cells": [
  {
   "cell_type": "markdown",
   "id": "494ebf3b",
   "metadata": {},
   "source": [
    "# QMCF solver"
   ]
  },
  {
   "cell_type": "code",
   "execution_count": 237,
   "id": "ade41eee",
   "metadata": {},
   "outputs": [],
   "source": [
    "import numpy as np\n",
    "import matplotlib.pyplot as plt\n",
    "from scipy.linalg import norm, svd, pinv\n",
    "from scipy import io\n",
    "import networkx as nx"
   ]
  },
  {
   "cell_type": "code",
   "execution_count": 155,
   "id": "ba45ad42",
   "metadata": {},
   "outputs": [],
   "source": [
    "E = np.array([[-1, -1, -1, 0, 0, 0], [1, 0, 0, -1, -1, 0], [0, 1, 0, 1, 0, -1], [0, 0, 1, 0, 1, 1]])\n",
    "b = np.array([-10, 0, 0, 10])\n",
    "u = np.array([10, 10, 10, 10, 10, 10])\n",
    "q = np.array([4, 4, 4, 10, 2, 2])\n",
    "Q = np.array([199, 100, 113, 105, 135, 145])"
   ]
  },
  {
   "cell_type": "code",
   "execution_count": 59,
   "id": "602c7b32",
   "metadata": {},
   "outputs": [],
   "source": [
    "n = E.shape[1]\n",
    "m = E.shape[0]"
   ]
  },
  {
   "cell_type": "code",
   "execution_count": 50,
   "id": "188e6f2f",
   "metadata": {},
   "outputs": [],
   "source": [
    "edges = []\n",
    "# iterate by column\n",
    "for i in range(n):\n",
    "    # get node index of current edge\n",
    "    node_index = E[:,i].nonzero()[0]\n",
    "    # get direction of the current edge\n",
    "    if E[node_index[0],i] < E[node_index[1],i]:\n",
    "        edges.append((node_index[0], node_index[1]))\n",
    "    else:\n",
    "        edges.append((node_index[1], node_index[0]))"
   ]
  },
  {
   "cell_type": "code",
   "execution_count": 61,
   "id": "0a98f48d",
   "metadata": {},
   "outputs": [
    {
     "data": {
      "image/png": "[encoded data removed]",
      "text/plain": [
       "<Figure size 200x200 with 1 Axes>"
      ]
     },
     "metadata": {},
     "output_type": "display_data"
    }
   ],
   "source": [
    "G = nx.empty_graph(0, nx.DiGraph)\n",
    "G.add_nodes_from(range(E.shape[0]))\n",
    "G.add_edges_from(edges)\n",
    "plt.figure(figsize=(2,2)) \n",
    "nx.draw(G, with_labels=True)"
   ]
  },
  {
   "cell_type": "markdown",
   "id": "5c922b6e",
   "metadata": {},
   "source": [
    "## Solve initial problem"
   ]
  },
  {
   "cell_type": "markdown",
   "id": "3a4c0168",
   "metadata": {},
   "source": [
    "### Scipy"
   ]
  },
  {
   "cell_type": "code",
   "execution_count": 115,
   "id": "75fbfc81",
   "metadata": {},
   "outputs": [],
   "source": [
    "from scipy.optimize import Bounds, LinearConstraint, minimize"
   ]
  },
  {
   "cell_type": "code",
   "execution_count": 98,
   "id": "d4983ee5",
   "metadata": {},
   "outputs": [],
   "source": [
    "def f(x):\n",
    "    return x.T @ np.diag(Q) @ x + q.T @ x"
   ]
  },
  {
   "cell_type": "code",
   "execution_count": 69,
   "id": "abbfcd04",
   "metadata": {},
   "outputs": [],
   "source": [
    "bounds = Bounds(np.zeros(n), u)\n",
    "lin_const = LinearConstraint(E, b, b)"
   ]
  },
  {
   "cell_type": "code",
   "execution_count": 107,
   "id": "97ad468d",
   "metadata": {},
   "outputs": [
    {
     "name": "stderr",
     "output_type": "stream",
     "text": [
      "/opt/anaconda3/envs/cm/lib/python3.9/site-packages/scipy/optimize/_trustregion_constr/projections.py:181: UserWarning: Singular Jacobian matrix. Using SVD decomposition to perform the factorizations.\n",
      "  warn('Singular Jacobian matrix. Using SVD decomposition to ' +\n"
     ]
    },
    {
     "name": "stdout",
     "output_type": "stream",
     "text": [
      "`xtol` termination condition is satisfied.\n",
      "Number of iterations: 232, function evaluations: 1603, CG iterations: 304, optimality: 8.77e-05, constraint violation: 1.03e-16, execution time:  1.3 s.\n"
     ]
    }
   ],
   "source": [
    "x0 = np.zeros(n)\n",
    "res = minimize(f, x0, method='trust-constr',\n",
    "               constraints=lin_const, bounds=bounds,\n",
    "               options={'verbose': 1})"
   ]
  },
  {
   "cell_type": "code",
   "execution_count": 116,
   "id": "9cbd1f34",
   "metadata": {},
   "outputs": [
    {
     "name": "stdout",
     "output_type": "stream",
     "text": [
      "x: [1.87838282e+00 2.56073406e+00 5.56088312e+00 1.87584760e-07\n",
      " 1.87838263e+00 2.56073425e+00]\n",
      "f(x): 6328.2373522487715\n",
      "norm(Ex-b): 1.0318010085992092e-16\n"
     ]
    }
   ],
   "source": [
    "print('x: '+str(res.x))\n",
    "print('f(x): '+str(f(res.x)))\n",
    "print('norm(Ex-b): '+str(norm(E@res.x-b)))"
   ]
  },
  {
   "cell_type": "markdown",
   "id": "48211273",
   "metadata": {},
   "source": [
    "### CVXPY"
   ]
  },
  {
   "cell_type": "code",
   "execution_count": 118,
   "id": "4d7a8848",
   "metadata": {},
   "outputs": [],
   "source": [
    "import cvxpy as cp"
   ]
  },
  {
   "cell_type": "code",
   "execution_count": 136,
   "id": "a03fdc11",
   "metadata": {},
   "outputs": [],
   "source": [
    "x = cp.Variable(n)\n",
    "objective = cp.Minimize(cp.quad_form(x, np.diag(Q)) + q.T @ x)\n",
    "constraints = [0 <= x, x <= u, E@x==b]\n",
    "prob = cp.Problem(objective, constraints)"
   ]
  },
  {
   "cell_type": "code",
   "execution_count": 139,
   "id": "8d082088",
   "metadata": {},
   "outputs": [
    {
     "name": "stdout",
     "output_type": "stream",
     "text": [
      "===============================================================================\n",
      "                                     CVXPY                                     \n",
      "                                     v1.2.2                                    \n",
      "===============================================================================\n",
      "(CVXPY) Nov 15 12:54:19 PM: Your problem has 6 variables, 3 constraints, and 0 parameters.\n",
      "(CVXPY) Nov 15 12:54:19 PM: It is compliant with the following grammars: DCP, DQCP\n",
      "(CVXPY) Nov 15 12:54:19 PM: (If you need to solve this problem multiple times, but with different data, consider using parameters.)\n",
      "(CVXPY) Nov 15 12:54:19 PM: CVXPY will first compile your problem; then, it will invoke a numerical solver to obtain a solution.\n",
      "-------------------------------------------------------------------------------\n",
      "                                  Compilation                                  \n",
      "-------------------------------------------------------------------------------\n",
      "(CVXPY) Nov 15 12:54:19 PM: Using cached ASA map, for faster compilation (bypassing reduction chain).\n",
      "(CVXPY) Nov 15 12:54:19 PM: Finished problem compilation (took 5.028e-03 seconds).\n",
      "-------------------------------------------------------------------------------\n",
      "                                Numerical solver                               \n",
      "-------------------------------------------------------------------------------\n",
      "(CVXPY) Nov 15 12:54:19 PM: Invoking solver OSQP  to obtain a solution.\n",
      "iter   objective    pri res    dua res    rho        time\n",
      "   1   6.3282e+03   1.90e-15   1.97e-10   1.02e+00   5.54e-04s\n",
      "  25   6.3282e+03   8.08e-15   1.13e-09   1.02e+00   6.14e-04s\n",
      "\n",
      "status:               solved\n",
      "number of iterations: 25\n",
      "optimal objective:    6328.2373\n",
      "run time:             6.55e-04s\n",
      "optimal rho estimate: 2.99e-02\n",
      "\n",
      "-------------------------------------------------------------------------------\n",
      "                                    Summary                                    \n",
      "-------------------------------------------------------------------------------\n",
      "(CVXPY) Nov 15 12:54:19 PM: Problem status: optimal\n",
      "(CVXPY) Nov 15 12:54:19 PM: Optimal value: 6.328e+03\n",
      "(CVXPY) Nov 15 12:54:19 PM: Compilation took 5.028e-03 seconds\n",
      "(CVXPY) Nov 15 12:54:19 PM: Solver (including time spent in interface) took 1.726e-03 seconds\n"
     ]
    }
   ],
   "source": [
    "res = prob.solve(verbose=True)"
   ]
  },
  {
   "cell_type": "code",
   "execution_count": 140,
   "id": "725df28a",
   "metadata": {},
   "outputs": [
    {
     "name": "stdout",
     "output_type": "stream",
     "text": [
      "x: [1.87838269e+00 2.56073395e+00 5.56088335e+00 2.50710231e-16\n",
      " 1.87838269e+00 2.56073395e+00]\n",
      "f(x): 6328.237306206148\n",
      "norm(Ex-b): 1.00571751810586e-14\n"
     ]
    }
   ],
   "source": [
    "print('x: '+str(x.value))\n",
    "print('f(x): '+str(res))\n",
    "print('norm(Ex-b): '+str(norm(E@x.value-b)))"
   ]
  },
  {
   "cell_type": "markdown",
   "id": "6668fe04",
   "metadata": {},
   "source": [
    "## CompactSVD"
   ]
  },
  {
   "cell_type": "code",
   "execution_count": 226,
   "id": "fc97a898",
   "metadata": {},
   "outputs": [],
   "source": [
    "def compactSVD(E):\n",
    "    m = E.shape[0]\n",
    "    r = m-1\n",
    "    # Compute thin SVD\n",
    "    U, s, Vt = svd(E, full_matrices=False)\n",
    "    Um = U[:,-1]\n",
    "    U = U[:, 0:r]\n",
    "    S = np.diag(s[0:r])\n",
    "    V = Vt.T[:,0:r]\n",
    "    \n",
    "    return U, S, V, Um   "
   ]
  },
  {
   "cell_type": "code",
   "execution_count": 227,
   "id": "f7123957",
   "metadata": {},
   "outputs": [],
   "source": [
    "U, S, V, Um = compactSVD(E)"
   ]
  },
  {
   "cell_type": "code",
   "execution_count": 228,
   "id": "2410d859",
   "metadata": {},
   "outputs": [
    {
     "data": {
      "text/plain": [
       "True"
      ]
     },
     "execution_count": 228,
     "metadata": {},
     "output_type": "execute_result"
    }
   ],
   "source": [
    "np.allclose(E, U@S@V.T)"
   ]
  },
  {
   "cell_type": "markdown",
   "id": "fec05cba",
   "metadata": {},
   "source": [
    "## getBoxedx"
   ]
  },
  {
   "cell_type": "code",
   "execution_count": 232,
   "id": "4bcf5910",
   "metadata": {},
   "outputs": [],
   "source": [
    "def getBoxedx(Q, q, E, b, u, mu):\n",
    "    n = Q.shape[0]\n",
    "    x = np.zeros(n)\n",
    "    \n",
    "    for i in range(n):\n",
    "        if Q[i] == 0:\n",
    "            if mu.T @ b < q[i]*u[i] + mu.T @ (E[:,i]*u(i) - b):\n",
    "                x[i] = 0\n",
    "            else:\n",
    "                x[i] = u[i]\n",
    "        else:\n",
    "            x[i] = (-q[i] - E.T[i,:] @ mu)/(2*Q[i])\n",
    "            x[i] = max(0, min(x[i], u[i]))\n",
    "        \n",
    "    return x"
   ]
  },
  {
   "cell_type": "code",
   "execution_count": 233,
   "id": "8d52f7aa",
   "metadata": {},
   "outputs": [],
   "source": [
    "mu = np.zeros(m)"
   ]
  },
  {
   "cell_type": "code",
   "execution_count": 235,
   "id": "b90fc72f",
   "metadata": {},
   "outputs": [],
   "source": [
    "x = getBoxedx(Q, q, E, b, u, mu)"
   ]
  },
  {
   "cell_type": "code",
   "execution_count": 236,
   "id": "97b5adf6",
   "metadata": {},
   "outputs": [
    {
     "data": {
      "text/plain": [
       "array([0., 0., 0., 0., 0., 0.])"
      ]
     },
     "execution_count": 236,
     "metadata": {},
     "output_type": "execute_result"
    }
   ],
   "source": [
    "x"
   ]
  },
  {
   "cell_type": "markdown",
   "id": "fa6140c2",
   "metadata": {},
   "source": [
    "## QMCF_solver"
   ]
  },
  {
   "cell_type": "code",
   "execution_count": 318,
   "id": "8e191c17",
   "metadata": {},
   "outputs": [],
   "source": [
    "eps = 1e-4\n",
    "l = 6.3282e+03\n",
    "lambd = 0.5\n",
    "best_l = False\n",
    "m = 0.1\n",
    "max_iter = 50"
   ]
  },
  {
   "cell_type": "code",
   "execution_count": 272,
   "id": "6b1b3e9d",
   "metadata": {},
   "outputs": [],
   "source": [
    "exitFlag=1\n",
    "n = E.shape[1]\n",
    "m = E.shape[0]\n",
    "U, S, V, Um = compactSVD(E)\n",
    "\n",
    "\n",
    "# Check satisfiability condition for E*x=b\n",
    "if np.abs(Um.T @ b) > 1.0e-10:\n",
    "    print('Ex=b unsatisfiable')\n",
    "    exitFlag = -1\n",
    "    \n",
    "\n",
    "# Initilization of parameters\n",
    "def f(x):\n",
    "    return x.T @ np.diag(Q) @ x + q.T @ x\n",
    "\n",
    "def L(x, mu):\n",
    "    return f(x) + mu.T @ (E@x - b)\n",
    "\n",
    "def dualf(x, mu):\n",
    "    return -L(x, mu)\n",
    "\n",
    "bar_mu = np.zeros(m)\n",
    "bar_x = getBoxedx(Q, q, E, b, u, bar_mu)\n",
    "x_best = []\n",
    "\n",
    "x_lin_const = V @ pinv(S) @ U.T @ b"
   ]
  },
  {
   "cell_type": "code",
   "execution_count": 311,
   "id": "b0402358",
   "metadata": {},
   "outputs": [
    {
     "name": "stdout",
     "output_type": "stream",
     "text": [
      "iter gap ||theta|| ||bar_mu|| ||bar_x|| l Case ||New z|| New alpha ||d|| step\n"
     ]
    }
   ],
   "source": [
    "# Bundle initialization\n",
    "z = (E@bar_x)-b\n",
    "alpha = np.dot(z, bar_mu) - dualf(bar_x, bar_mu)\n",
    "B_z = z\n",
    "B_alpha = alpha\n",
    "X = bar_x\n",
    "\n",
    "# Initialization of lower bound and upper bound\n",
    "LB = 0\n",
    "UB = np.Inf\n",
    "#LB = L(bar_x, bar_mu)\n",
    "#UB = f(bar_x)\n",
    "\n",
    "\n",
    "# Initialization of variable for optimal x\n",
    "x_sat_const_found = False\n",
    "num_iterations = 0\n",
    "theta_case = 0\n",
    "d = 0\n",
    "\n",
    "print('iter gap ||theta|| ||bar_mu|| ||bar_x|| l Case ||New z|| New alpha ||d|| step')"
   ]
  },
  {
   "cell_type": "code",
   "execution_count": 317,
   "id": "67dfdcfd",
   "metadata": {},
   "outputs": [
    {
     "data": {
      "text/plain": [
       "True"
      ]
     },
     "execution_count": 317,
     "metadata": {},
     "output_type": "execute_result"
    }
   ],
   "source": [
    "np.all(np.ones(m)>0.5)"
   ]
  },
  {
   "cell_type": "code",
   "execution_count": 324,
   "id": "84b78f58",
   "metadata": {},
   "outputs": [
    {
     "data": {
      "text/plain": [
       "0"
      ]
     },
     "execution_count": 324,
     "metadata": {},
     "output_type": "execute_result"
    }
   ],
   "source": [
    "len(x_best)"
   ]
  },
  {
   "cell_type": "code",
   "execution_count": null,
   "id": "02da8f5d",
   "metadata": {},
   "outputs": [],
   "source": [
    "while(np.abs(UB-LB) >= epsilon && num_iterations < max_iter):\n",
    "    \n",
    "    #[bar_mu, theta, l, d, steptype] = LBM(dualf, bar_x, bar_mu, l, B_z, B_alpha, lambda, best_l, m_lbm);\n",
    "    \n",
    "    # Case 1: theta is a convex combinator, optimal x\n",
    "    if(np.abs(np.sum(theta)-1) <= eps and np.all((B_z @ theta)<eps)):\n",
    "        theta_case = 1\n",
    "        bar_x = X @ theta\n",
    "        x_sat_const_found = true\n",
    "    \n",
    "    # Case 2: try to force x in [0,u] using a Lagrangian heuristic\n",
    "    else:\n",
    "        theta_scaled = theta;\n",
    "        if(np.sum(theta)!=1 and np.sum(theta)!=0):\n",
    "            theta_scaled = theta/np.sum(theta)\n",
    "        \n",
    "        bar_x = X @ theta_scaled\n",
    "        bar_x = bar_x - V @ V.T @ bar_x + x_lin_const\n",
    "        \n",
    "        if (np.all(bar_x >= -eps) and np.all(bar_x <= u+eps)):\n",
    "            theta_case = 2\n",
    "            theta = theta_scaled\n",
    "            x_sat_const_found = true\n",
    "        \n",
    "        # Case 3: optimal x not found, find a feasible one\n",
    "        else:\n",
    "            theta_case = 3\n",
    "            bar_x = getBoxedx(Q, q, E, b, u, bar_mu)\n",
    "    \n",
    "    \n",
    "    # Update LB and UB if an optimal x has been found\n",
    "    if(x_sat_const_found):\n",
    "        if len(x_best) == 0:\n",
    "            x_best = bar_x\n",
    "            UB = f(x_best)\n",
    "            LB = L(x_best, bar_mu)\n",
    "        else:\n",
    "            \n",
    "            # Update UB and the level parameter\n",
    "            if (f(bar_x) < f(x_best)):\n",
    "                x_best = bar_x\n",
    "                l = f(x_best)\n",
    "                UB = l\n",
    "        \n",
    "        # Update LB\n",
    "        if(L(bar_x, bar_mu) > LB):\n",
    "            LB = L(bar_x, bar_mu)\n",
    "            \n",
    "        x_sat_const_found=false\n",
    "    \n",
    "    X = np.vstack((X,bar_x))\n",
    "    # Compute new pair (z, alpha) and append to the bundle\n",
    "    if(np.abs(np.sum(theta)-1) <= eps):\n",
    "        newz = B_z@theta\n",
    "        newalpha = B_alpha@theta\n",
    "    else:\n",
    "        newz = (E@bar_x)-b\n",
    "        newalpha = newz.T@bar_mu - dualf(bar_x, bar_mu)\n",
    "        \n",
    "    B_z = np.vstack((B_z,newz))\n",
    "    B_alpha = np.vstack((B_alpha,newalpha))\n",
    "    num_iterations = num_iterations + 1\n",
    "    \n",
    "    \n",
    "    #print('%d \\t %1.1e \\t %1.4e \\t %1.4e \\t %1.4e \\t %1.4e \\t %d \\t %1.4e \\t %1.1e \\t %1.4e \\t %s\\n',\n",
    "    #    num_iterations, norm(UB-LB), norm(theta), norm(bar_mu), norm(bar_x), l, theta_case, norm(newz), newalpha, norm(d), steptype);"
   ]
  },
  {
   "cell_type": "code",
   "execution_count": null,
   "id": "4ab4bd7c",
   "metadata": {},
   "outputs": [],
   "source": []
  },
  {
   "cell_type": "code",
   "execution_count": null,
   "id": "0e548b79",
   "metadata": {},
   "outputs": [],
   "source": []
  }
 ],
 "metadata": {
  "kernelspec": {
   "display_name": "Python 3 (ipykernel)",
   "language": "python",
   "name": "python3"
  },
  "language_info": {
   "codemirror_mode": {
    "name": "ipython",
    "version": 3
   },
   "file_extension": ".py",
   "mimetype": "text/x-python",
   "name": "python",
   "nbconvert_exporter": "python",
   "pygments_lexer": "ipython3",
   "version": "3.9.13"
  }
 },
 "nbformat": 4,
 "nbformat_minor": 5
}
