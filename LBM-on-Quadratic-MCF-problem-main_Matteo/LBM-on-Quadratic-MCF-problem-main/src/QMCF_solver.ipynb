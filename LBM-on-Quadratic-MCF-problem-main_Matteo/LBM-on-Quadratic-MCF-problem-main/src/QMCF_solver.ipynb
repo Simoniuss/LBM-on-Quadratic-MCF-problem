{
 "cells": [
  {
   "cell_type": "markdown",
   "id": "494ebf3b",
   "metadata": {},
   "source": [
    "# QMCF solver"
   ]
  },
  {
   "cell_type": "code",
   "execution_count": 40,
   "id": "ade41eee",
   "metadata": {},
   "outputs": [],
   "source": [
    "import numpy as np\n",
    "import matplotlib.pyplot as plt\n",
    "from scipy.linalg import norm, svd, pinv\n",
    "from scipy import io\n",
    "import networkx as nx"
   ]
  },
  {
   "cell_type": "code",
   "execution_count": 41,
   "id": "fbcf3f8c",
   "metadata": {},
   "outputs": [],
   "source": [
    "file = './MCF_1000.mat'\n",
    "mat = io.loadmat(file)"
   ]
  },
  {
   "cell_type": "code",
   "execution_count": 42,
   "id": "0882552d",
   "metadata": {},
   "outputs": [],
   "source": [
    "E = mat['E']\n",
    "b = mat['b'][0]\n",
    "u = mat['u'][0]\n",
    "q = mat['q'][0]\n",
    "Q = mat['Q'][0]"
   ]
  },
  {
   "cell_type": "code",
   "execution_count": 4,
   "id": "ba45ad42",
   "metadata": {},
   "outputs": [],
   "source": [
    "E = np.array([[-1, -1, -1, 0, 0, 0], [1, 0, 0, -1, -1, 0], [0, 1, 0, 1, 0, -1], [0, 0, 1, 0, 1, 1]])\n",
    "b = np.array([-10, 0, 0, 10])\n",
    "u = np.array([10, 10, 10, 10, 10, 10])\n",
    "q = np.array([4, 4, 4, 10, 2, 2])\n",
    "Q = np.array([199, 100, 113, 105, 135, 145])"
   ]
  },
  {
   "cell_type": "code",
   "execution_count": 65,
   "id": "602c7b32",
   "metadata": {},
   "outputs": [],
   "source": [
    "n = E.shape[1]\n",
    "m = E.shape[0]"
   ]
  },
  {
   "cell_type": "code",
   "execution_count": 6,
   "id": "188e6f2f",
   "metadata": {},
   "outputs": [],
   "source": [
    "edges = []\n",
    "# iterate by column\n",
    "for i in range(n):\n",
    "    # get node index of current edge\n",
    "    node_index = E[:,i].nonzero()[0]\n",
    "    # get direction of the current edge\n",
    "    if E[node_index[0],i] < E[node_index[1],i]:\n",
    "        edges.append((node_index[0], node_index[1]))\n",
    "    else:\n",
    "        edges.append((node_index[1], node_index[0]))"
   ]
  },
  {
   "cell_type": "code",
   "execution_count": 7,
   "id": "0a98f48d",
   "metadata": {},
   "outputs": [
    {
     "data": {
      "image/png": "[encoded data removed]",
      "text/plain": [
       "<Figure size 200x200 with 1 Axes>"
      ]
     },
     "metadata": {},
     "output_type": "display_data"
    }
   ],
   "source": [
    "G = nx.empty_graph(0, nx.DiGraph)\n",
    "G.add_nodes_from(range(E.shape[0]))\n",
    "G.add_edges_from(edges)\n",
    "plt.figure(figsize=(2,2)) \n",
    "nx.draw(G, with_labels=True)"
   ]
  },
  {
   "cell_type": "markdown",
   "id": "5c922b6e",
   "metadata": {},
   "source": [
    "## Solve initial problem"
   ]
  },
  {
   "cell_type": "markdown",
   "id": "3a4c0168",
   "metadata": {},
   "source": [
    "### Scipy"
   ]
  },
  {
   "cell_type": "code",
   "execution_count": 8,
   "id": "75fbfc81",
   "metadata": {},
   "outputs": [],
   "source": [
    "from scipy.optimize import Bounds, LinearConstraint, minimize"
   ]
  },
  {
   "cell_type": "code",
   "execution_count": 9,
   "id": "d4983ee5",
   "metadata": {},
   "outputs": [],
   "source": [
    "def f(x):\n",
    "    return x.T @ np.diag(Q) @ x + q.T @ x"
   ]
  },
  {
   "cell_type": "code",
   "execution_count": 10,
   "id": "abbfcd04",
   "metadata": {},
   "outputs": [],
   "source": [
    "bounds = Bounds(np.zeros(n), u)\n",
    "lin_const = LinearConstraint(E, b, b)"
   ]
  },
  {
   "cell_type": "code",
   "execution_count": 11,
   "id": "97ad468d",
   "metadata": {},
   "outputs": [
    {
     "name": "stderr",
     "output_type": "stream",
     "text": [
      "/opt/anaconda3/envs/cm/lib/python3.9/site-packages/scipy/optimize/_trustregion_constr/projections.py:181: UserWarning: Singular Jacobian matrix. Using SVD decomposition to perform the factorizations.\n",
      "  warn('Singular Jacobian matrix. Using SVD decomposition to ' +\n"
     ]
    },
    {
     "name": "stdout",
     "output_type": "stream",
     "text": [
      "`xtol` termination condition is satisfied.\n",
      "Number of iterations: 232, function evaluations: 1603, CG iterations: 304, optimality: 8.77e-05, constraint violation: 1.03e-16, execution time:  1.4 s.\n"
     ]
    }
   ],
   "source": [
    "x0 = np.zeros(n)\n",
    "res = minimize(f, x0, method='trust-constr',\n",
    "               constraints=lin_const, bounds=bounds,\n",
    "               options={'verbose': 1})"
   ]
  },
  {
   "cell_type": "code",
   "execution_count": 12,
   "id": "9cbd1f34",
   "metadata": {},
   "outputs": [
    {
     "name": "stdout",
     "output_type": "stream",
     "text": [
      "x: [1.87838282e+00 2.56073406e+00 5.56088312e+00 1.87584760e-07\n",
      " 1.87838263e+00 2.56073425e+00]\n",
      "f(x): 6328.2373522487715\n",
      "norm(Ex-b): 1.0318010085992092e-16\n"
     ]
    }
   ],
   "source": [
    "print('x: '+str(res.x))\n",
    "print('f(x): '+str(f(res.x)))\n",
    "print('norm(Ex-b): '+str(norm(E@res.x-b)))"
   ]
  },
  {
   "cell_type": "markdown",
   "id": "48211273",
   "metadata": {},
   "source": [
    "### CVXPY"
   ]
  },
  {
   "cell_type": "code",
   "execution_count": 44,
   "id": "4d7a8848",
   "metadata": {},
   "outputs": [],
   "source": [
    "import cvxpy as cp"
   ]
  },
  {
   "cell_type": "code",
   "execution_count": 45,
   "id": "a03fdc11",
   "metadata": {},
   "outputs": [],
   "source": [
    "x = cp.Variable(n)\n",
    "objective = cp.Minimize(cp.quad_form(x, np.diag(Q)) + q.T @ x)\n",
    "constraints = [0 <= x, x <= u, E@x==b]\n",
    "prob = cp.Problem(objective, constraints)"
   ]
  },
  {
   "cell_type": "code",
   "execution_count": 46,
   "id": "8d082088",
   "metadata": {},
   "outputs": [
    {
     "name": "stdout",
     "output_type": "stream",
     "text": [
      "===============================================================================\n",
      "                                     CVXPY                                     \n",
      "                                     v1.2.2                                    \n",
      "===============================================================================\n",
      "(CVXPY) Nov 17 03:30:06 PM: Your problem has 1000 variables, 3 constraints, and 0 parameters.\n",
      "(CVXPY) Nov 17 03:30:06 PM: It is compliant with the following grammars: DCP, DQCP\n",
      "(CVXPY) Nov 17 03:30:06 PM: (If you need to solve this problem multiple times, but with different data, consider using parameters.)\n",
      "(CVXPY) Nov 17 03:30:06 PM: CVXPY will first compile your problem; then, it will invoke a numerical solver to obtain a solution.\n",
      "-------------------------------------------------------------------------------\n",
      "                                  Compilation                                  \n",
      "-------------------------------------------------------------------------------\n",
      "(CVXPY) Nov 17 03:30:06 PM: Compiling problem (target solver=OSQP).\n",
      "(CVXPY) Nov 17 03:30:06 PM: Reduction chain: CvxAttr2Constr -> Qp2SymbolicQp -> QpMatrixStuffing -> OSQP\n",
      "(CVXPY) Nov 17 03:30:06 PM: Applying reduction CvxAttr2Constr\n",
      "(CVXPY) Nov 17 03:30:06 PM: Applying reduction Qp2SymbolicQp\n",
      "(CVXPY) Nov 17 03:30:06 PM: Applying reduction QpMatrixStuffing\n",
      "(CVXPY) Nov 17 03:30:06 PM: Applying reduction OSQP\n",
      "(CVXPY) Nov 17 03:30:06 PM: Finished problem compilation (took 9.418e-02 seconds).\n",
      "-------------------------------------------------------------------------------\n",
      "                                Numerical solver                               \n",
      "-------------------------------------------------------------------------------\n",
      "(CVXPY) Nov 17 03:30:06 PM: Invoking solver OSQP  to obtain a solution.\n",
      "-----------------------------------------------------------------\n",
      "           OSQP v0.6.2  -  Operator Splitting QP Solver\n",
      "              (c) Bartolomeo Stellato,  Goran Banjac\n",
      "        University of Oxford  -  Stanford University 2021\n",
      "-----------------------------------------------------------------\n",
      "problem:  variables n = 1000, constraints m = 2089\n",
      "          nnz(P) + nnz(A) = 5000\n",
      "settings: linear system solver = qdldl,\n",
      "          eps_abs = 1.0e-05, eps_rel = 1.0e-05,\n",
      "          eps_prim_inf = 1.0e-04, eps_dual_inf = 1.0e-04,\n",
      "          rho = 1.00e-01 (adaptive),\n",
      "          sigma = 1.00e-06, alpha = 1.60, max_iter = 10000\n",
      "          check_termination: on (interval 25),\n",
      "          scaling: on, scaled_termination: off\n",
      "          warm start: on, polish: on, time_limit: off\n",
      "\n",
      "iter   objective    pri res    dua res    rho        time\n",
      "   1  -3.2384e+00   1.43e+02   1.34e+09   1.00e-01   4.42e-03s\n",
      " 200   3.4687e+08   9.11e-04   1.19e+00   7.25e-01   1.86e-02s\n",
      "plsh   3.4687e+08   3.66e-14   2.01e-09   --------   2.13e-02s\n",
      "\n",
      "status:               solved\n",
      "solution polish:      successful\n",
      "number of iterations: 200\n",
      "optimal objective:    346866396.0294\n",
      "run time:             2.13e-02s\n",
      "optimal rho estimate: 9.38e-01\n",
      "\n",
      "-------------------------------------------------------------------------------\n",
      "                                    Summary                                    \n",
      "-------------------------------------------------------------------------------\n",
      "(CVXPY) Nov 17 03:30:06 PM: Problem status: optimal\n",
      "(CVXPY) Nov 17 03:30:06 PM: Optimal value: 3.469e+08\n",
      "(CVXPY) Nov 17 03:30:06 PM: Compilation took 9.418e-02 seconds\n",
      "(CVXPY) Nov 17 03:30:06 PM: Solver (including time spent in interface) took 2.754e-02 seconds\n"
     ]
    }
   ],
   "source": [
    "res = prob.solve(verbose=True)"
   ]
  },
  {
   "cell_type": "code",
   "execution_count": 47,
   "id": "725df28a",
   "metadata": {},
   "outputs": [
    {
     "name": "stdout",
     "output_type": "stream",
     "text": [
      "x: [ 1.08578896e+00  1.33499441e+00  1.41174876e+01  5.63497682e+00\n",
      "  2.68776047e+00  5.79179349e+00  4.13167318e+00  1.49199766e+00\n",
      "  1.37841566e+01  1.17260856e+01  9.79941753e+00  1.29350959e+01\n",
      "  9.33878623e+00  1.65329081e+00  9.15395540e+00  3.18873987e+00\n",
      "  3.90812774e+00  1.57136732e+00  5.66450447e+00  5.88683986e-21\n",
      "  1.15499151e-01 -4.72075794e-21  3.25426043e-21  5.15126899e-02\n",
      "  1.94075900e+00 -1.68945733e-22  1.31245188e-01  1.65883830e-21\n",
      "  7.74601120e-01  4.84957900e-22 -1.58422269e-21  4.25984463e+00\n",
      " -3.11343571e-21  4.40265251e-22  9.32745329e-01  5.02072963e-22\n",
      " -1.88774370e-21  3.74787885e-01  3.89373919e-02  4.21092337e-01\n",
      "  8.51862615e-02  7.16110316e-01  3.39788875e-02  1.33162016e-01\n",
      "  1.57451271e+00  6.84981538e-01 -6.82027287e-20  2.21016264e-02\n",
      "  3.02842864e-02  8.84905496e-02 -2.19842857e-21  2.93057999e-01\n",
      "  1.25751664e+00  4.98854430e-01  4.68212049e-01 -2.81983703e-22\n",
      " -3.61508673e-21  8.00856812e-01  4.77428788e-02 -4.87856875e-22\n",
      "  8.16984859e-02  2.99890176e-02 -1.16222497e-21  1.60544410e-02\n",
      "  3.10552081e-02  1.64721939e-02  1.39092459e-01  1.31356201e-21\n",
      "  1.13730525e-01 -3.07650543e-22 -7.50880800e-22  1.18406864e-01\n",
      " -4.23110068e-22 -2.04546399e-21  3.45199321e-01  6.68775624e-01\n",
      "  3.84032063e+00  1.16758369e+00 -3.69069145e-21 -4.83668666e-20\n",
      " -1.50504364e-21 -2.67268160e-22  4.96954328e-01 -2.07736196e-22\n",
      "  7.90465270e-01  6.35676988e-01 -9.55740850e-22  3.38591279e-01\n",
      " -2.09195771e-19 -5.24181692e-21  1.48637598e-01  5.33641917e-01\n",
      " -2.77510206e-21 -4.90907722e-19  4.51558040e-02  3.39327075e-01\n",
      "  3.54736394e-01 -1.46031517e-20  5.71716921e-21 -2.25823844e-22\n",
      "  1.09172145e-01 -1.33577129e-21  1.99325272e-01 -4.21359072e-21\n",
      " -8.24623178e-22 -1.96847174e-21  1.44534492e-01 -8.85559116e-22\n",
      " -4.02120928e-22  2.24618667e+00 -2.47304683e-22  6.47799608e-02\n",
      " -5.93565079e-22 -1.10630883e-21  2.86401977e-01 -1.78766183e-20\n",
      " -1.45055444e-20  9.33569949e-23 -6.40213825e-21  7.10214637e-01\n",
      "  1.00029919e+01  1.04674504e+00  2.62924690e-01  4.40068844e+00\n",
      "  1.57205524e+00  2.18079356e+00  1.11730577e-01 -2.12872975e-22\n",
      "  1.36939309e-02  7.86614050e-02  6.00966205e-01 -1.33542716e-21\n",
      "  1.11309621e+00  1.46374980e+00  2.31408723e-02  2.70884872e-22\n",
      "  1.06318461e-01  1.24066106e-22  5.39330773e-01  4.37405185e-01\n",
      "  8.56328186e-21  1.59412817e-22  9.96081281e-21  1.13373627e+01\n",
      "  1.34846770e+00 -1.00958754e-20  3.84147562e-01 -8.03777231e-22\n",
      "  1.37913167e-01  1.70227103e+00  3.67815370e-22  3.62286518e+00\n",
      "  2.19583687e+00 -2.35873717e-22 -2.28049959e-22  1.66135615e-21\n",
      " -3.32665167e-22 -3.64055932e-21 -3.59937965e-21 -9.25520961e-23\n",
      "  6.30153962e-21  8.64261468e-23 -1.98753410e-22 -4.40222531e-22\n",
      "  4.14228241e-23  2.05771420e+01 -9.99860089e-21  4.89844201e-21\n",
      " -5.25726079e-21  2.04249607e-21  4.63673057e-22  5.76664556e+00\n",
      " -4.44520144e-21 -2.18634683e-21 -2.79025904e-21 -1.07907489e-20\n",
      " -4.83831198e-20 -1.50354664e-19 -2.42636423e-21 -4.19772336e-21\n",
      "  1.41689130e+01 -1.11901759e-18 -3.73495289e-21 -1.06238347e-22\n",
      " -2.60467769e-22 -3.65037877e-23  6.98135362e-23 -1.39023004e-22\n",
      " -3.73779807e-21  2.33466811e-03  9.92468561e-22 -3.34963274e-20\n",
      " -6.76793336e-21  7.51521407e-22 -2.75112351e-22  1.32148600e-22\n",
      "  4.98387565e-01  4.11800254e+00  4.22357834e+00  1.66409866e-21\n",
      " -2.53821505e-21  9.94447099e-02  6.88673626e-01  1.04790439e-01\n",
      "  7.62614041e-01  9.85668289e-02 -8.72920611e-21 -8.63600596e-22\n",
      "  2.68751826e+00  4.45895096e-01  4.17873611e+00  9.96007619e-24\n",
      "  1.54682229e+01  2.42958939e-02  1.87245086e-01 -1.04662278e-21\n",
      "  1.41705198e-01  7.81425619e+00  4.15150271e-01  5.49314769e-01\n",
      "  2.89390196e-01  6.66510468e-01  1.56646393e+00  5.18823203e-01\n",
      "  2.45969950e+00  1.31801655e+00  1.23809239e+00  1.63913663e-20\n",
      "  6.14584924e-02  1.97501109e-01  1.54448393e+01  4.62111708e+00\n",
      "  2.40090415e+00  3.28931433e+00  5.55934892e+00  2.90000000e+01\n",
      "  3.45838265e+00  2.40000000e+01  1.97413179e+00  5.34099735e+00\n",
      "  1.43741902e+00  7.36231305e+00  6.88388840e+00  3.04108652e+00\n",
      "  8.59278230e+00  6.20464511e+00  1.12938517e+01  3.09497837e+00\n",
      " -4.73488775e-21  4.48529866e-02 -6.01625719e-22 -3.66543390e-21\n",
      "  4.00704012e+00 -4.47069410e-21 -4.05485991e-21 -1.17650856e-21\n",
      "  1.24133744e-01 -1.74032907e-21 -1.70388308e-21  5.52701311e-01\n",
      "  6.27212375e-02 -6.15772734e-21  5.58687398e-01  4.59238503e+00\n",
      " -4.95974417e-21 -6.99415722e-22 -4.30993739e-21  2.94582557e-01\n",
      "  3.56663616e-01  4.39846760e-01  3.66773799e-01  1.14473373e-01\n",
      "  2.03987999e+00  1.85690732e+00  5.61460630e-01  8.11533051e-23\n",
      "  2.56575014e-01  1.98998293e-01  1.75879933e+00  1.69424094e+00\n",
      "  4.60510692e-02  5.04913018e-01  5.58213543e-01  3.67937437e-01\n",
      "  1.39153280e+00 -4.89193949e-22 -2.58990992e-22  6.07451544e-22\n",
      " -3.32474095e-21  3.66989904e-01 -2.95209469e-22 -2.27625588e-23\n",
      "  3.64768529e+00  1.19920875e+00  6.70204203e+00  6.35928442e-01\n",
      "  3.44013051e+00  4.36415602e-01 -1.08164943e-21  2.94114204e+00\n",
      "  8.34761357e-01  2.84264317e-01 -1.77380214e-21  3.36953766e-01\n",
      "  1.58645469e-21  4.04493000e+00  1.74923352e+00  4.44775805e+00\n",
      "  4.79846086e-01 -3.70061485e-18  2.24557478e+00  4.53278108e-01\n",
      "  9.02307288e-01 -9.67039603e-21 -1.71644713e-21 -9.91356242e-22\n",
      " -1.23562691e-21  2.42181130e+00  1.96725300e-01 -1.83269721e-20\n",
      " -2.19904242e-21 -3.27911300e-21  1.11533110e-01 -2.18441285e-19\n",
      "  2.77752983e-02  2.80272139e-02 -1.21790492e-20  1.19713810e-01\n",
      " -1.69621438e-20  4.23958740e-01  7.39822671e-02  9.49329941e-01\n",
      "  3.98636423e-01 -5.60395649e-22  7.85707201e-02  4.11481571e+00\n",
      "  5.41728312e+00 -1.43563551e-19 -6.60256137e-21  4.37768687e-01\n",
      "  8.13381322e-02  7.83788326e-01  1.45948045e+00  1.30003554e+01\n",
      "  3.95753960e-01  1.63773379e+00 -3.61305366e-21  8.63912872e-01\n",
      "  4.08850434e-01  2.11528230e+00  5.95484400e-01 -5.64757631e-21\n",
      "  1.94976728e-01  7.59222934e-01  2.33346179e+00  8.14555718e-01\n",
      "  7.29902179e-01  6.23842883e-01  2.95859954e+00 -3.11564796e-21\n",
      " -5.00660613e-22 -1.23568873e-21 -3.67393884e-21  3.89669993e-23\n",
      " -9.52393632e-22  8.54393947e-24 -4.67361179e-22  4.60957172e-01\n",
      " -1.14711784e-21  6.51459978e+00 -3.51288360e-21  1.63723408e-21\n",
      "  7.62776690e-23  1.52854134e-22 -4.93950682e-22  1.03759314e+00\n",
      "  6.10852850e-01 -7.50827112e-22 -1.20044433e-21 -9.84037900e-21\n",
      "  1.22396766e-01 -3.19811166e-21 -2.73221599e-23 -1.47373774e-22\n",
      "  3.19316707e-01 -1.72585537e-21  1.09684239e-22 -6.40111588e-21\n",
      "  1.62408455e-21 -5.78197139e-20  9.69284085e+00  1.75645162e-01\n",
      "  4.06064798e-01  1.46642364e-01  1.44125472e-01  6.41476755e-02\n",
      " -8.30142738e-21  1.78776742e-02  7.04110182e-01  2.36608065e-01\n",
      "  5.39248542e-01  2.53640331e-01 -1.34353428e-20  1.87294054e-01\n",
      "  4.78479162e-01  4.71205227e-01  1.90113634e-01 -3.99100994e-22\n",
      " -2.91798266e-22 -6.02790528e-22  1.52660375e+01 -3.35568112e-22\n",
      " -1.96187279e-21 -1.19666479e-21  4.70387809e-01  9.01476850e-01\n",
      "  2.15192583e-23 -2.11759531e-22  2.20274500e+00  2.30249016e-01\n",
      "  2.05864173e-01 -1.79295203e-25 -6.75506083e-22  5.55802360e-01\n",
      " -2.91106477e-21  1.34591988e-01  2.05912906e-02  1.54390129e-01\n",
      "  5.84510154e-23  3.75349285e-22  2.09558210e-01  1.51230014e+00\n",
      "  2.72108653e-01 -1.57784702e-19  1.08745589e+00 -7.97366886e-22\n",
      "  9.22635081e-01  2.60551149e-21 -1.56225832e-22  1.96670315e+00\n",
      "  8.04714285e-02  6.71169073e-21  3.40737997e-21 -1.66653781e-21\n",
      "  2.17895285e+00  2.66243281e+00  9.48125107e-01  9.70554031e-01\n",
      "  6.62098149e+00  4.69934128e-01 -1.77890170e-21  3.23842808e-01\n",
      "  6.51707856e-01  1.61970328e-01  1.46494489e-01  1.59401841e+00\n",
      " -2.56108916e-21  1.88018192e-01  2.34403494e-01  5.65347437e-01\n",
      "  7.32212962e-01  1.13093228e-21  8.49643173e-23 -9.50663237e-22\n",
      "  1.31744000e-21  1.67279528e-23 -2.54954228e-22  2.51646958e-22\n",
      "  2.22461369e+00  8.35828206e-22 -4.57447895e-21  4.92621191e-22\n",
      " -9.38670824e-22  6.79417547e-22  4.02655878e-22  9.89432998e+00\n",
      "  6.04005563e-21  5.76291298e-03 -2.27585229e-22  5.96521750e-03\n",
      "  1.15709514e-01  2.32645047e+00  8.37428541e-01  3.12328787e-01\n",
      "  6.69554982e-01  4.37980971e-23  2.94494614e-01  8.80777081e-01\n",
      "  3.20551189e+00  3.67884852e-01  2.88356585e-01  1.15054765e+00\n",
      "  7.88450564e-01  1.17366040e+00  1.46869309e-01  3.56582681e-01\n",
      "  6.87356242e-01  7.72026671e-01  3.24404912e-01  1.59782438e+00\n",
      "  4.87744567e+00 -1.19605806e-21  1.63200817e-01 -1.18329642e-21\n",
      " -8.73121568e-22 -1.44457061e-19 -1.20060873e-21 -1.72269806e-21\n",
      " -3.48866722e-22  6.10471319e-02  2.47406300e+00  2.12440457e+00\n",
      " -1.42380480e-20  6.51486335e-01  1.67592500e+00  3.33226412e-01\n",
      "  3.63798588e-01  2.20889308e-01  5.43903211e-01  3.01005646e-01\n",
      "  7.17301157e+00  2.50800272e+00  4.28390155e-01  2.77300870e-01\n",
      "  7.69687927e+00  9.39310013e-01  4.63590733e+00  1.73131685e+00\n",
      "  5.27922450e-21  1.46969207e+00  9.63659144e-22  9.35811382e-01\n",
      " -1.11265789e-22  2.81578328e-01  3.85525086e+00 -3.52934913e-20\n",
      "  2.27910032e-22 -8.56665861e-22 -3.51641930e-22  7.19841610e-22\n",
      " -3.79300220e-21  4.18255328e-01 -3.47778949e-21 -8.61753793e-21\n",
      "  1.79094165e-22 -1.40611531e-23 -3.18673520e-22 -5.15220241e-21\n",
      " -2.06639031e-20  2.04816463e-23 -1.17609990e-20  1.16674831e+00\n",
      "  4.88454134e-01  4.05293167e-01  1.13406764e-20  4.40929407e+00\n",
      "  9.94144725e-02 -4.76658255e-21  4.38826744e+00 -3.31267997e-21\n",
      " -9.57908544e-22 -5.75550555e-23 -4.54572889e-21 -2.50226596e-21\n",
      " -1.04957395e-21  1.17375364e-01 -1.95900925e-21 -2.22089778e-21\n",
      " -9.88530732e-22 -9.06853391e-22 -2.04856658e-22 -1.11299306e-21\n",
      "  5.55102159e-01  2.27453414e+00  8.45949904e-02 -8.88358273e-21\n",
      " -1.39769312e-21  1.05566481e+01  1.09825494e+00  3.78993625e+00\n",
      "  1.50307830e+00 -8.64638962e-22  6.06516405e-23 -5.26650585e-21\n",
      "  1.47671541e-22 -1.26436220e-21  1.68461912e-01 -1.17673052e-22\n",
      "  1.92190458e-21 -1.32376426e-20  2.13353722e-01  1.59788587e-01\n",
      " -1.15843386e-20 -1.86619379e-20 -1.03758248e-21  1.13391003e+00\n",
      " -7.30218963e-20  9.46296710e-01  5.80729276e-01  9.84354092e+00\n",
      "  4.18534937e-01 -4.55583859e-22 -2.82951828e-21 -3.26746934e-21\n",
      " -2.83389929e-22 -6.48850296e-23 -3.55214614e-21  2.01918001e-22\n",
      "  6.57274574e-22 -1.41484761e-21 -4.52062332e-22  7.27379972e+00\n",
      "  3.05886807e-01  2.23625859e-01  2.79384761e+00 -5.27318830e-21\n",
      "  8.88083765e-01  1.62562444e+00  3.59793168e+00  4.04875129e-01\n",
      "  4.97269814e+00  5.42852669e+00  3.30986362e-01  1.54113798e-01\n",
      "  6.67001263e+00  2.45769143e-01  2.21047184e-01  7.92219722e-01\n",
      "  2.96919251e-01  2.27868352e+00 -9.32832837e-22  3.11669107e-01\n",
      " -2.68711179e-21  4.56951571e-03 -3.47361851e-22  1.10995256e-01\n",
      " -1.07029461e-22 -2.48290568e-22  7.24554359e+00 -2.50532284e-23\n",
      "  5.23715689e-01 -5.81041811e-21  2.00713077e+00 -3.77688799e-21\n",
      "  1.09603168e-01 -7.34557513e-22 -4.66690535e-21  1.33605963e-22\n",
      "  2.38096990e-01  1.31480007e-02 -1.24377906e-20 -5.92179690e-21\n",
      "  9.43033081e-02  4.72215558e+00 -2.22117532e-21 -3.17801141e-20\n",
      "  3.32583166e+00 -1.53190298e-21  1.94951110e+00  5.72174235e-01\n",
      "  4.68826453e-01  1.98228079e-01  3.59173740e-01 -1.91410394e-21\n",
      "  2.88410179e-01  2.78692313e-01 -9.32025846e-22  2.76505250e+00\n",
      "  7.48532756e-02 -9.57150464e-21 -7.13570683e-21  1.87325955e-02\n",
      " -8.46447595e-21 -5.29806648e-21 -1.13537252e-19 -1.44514008e-21\n",
      " -7.44765159e-22  4.80687710e-01 -6.29839848e-21 -3.47625411e-21\n",
      " -2.01848931e-21 -1.42241663e-21  1.34425852e+00  2.09495529e+00\n",
      "  1.99086282e-22  1.11423502e-21  1.08226536e+00 -5.49738381e-21\n",
      "  1.40456653e-21  1.01033410e-22 -1.31236110e-20  3.75224302e+00\n",
      " -1.09865077e-21  1.42645592e+00  9.23027244e-22  1.87158570e+00\n",
      "  5.34169423e-22  1.29025616e-21 -2.35768598e-22  1.31300512e+00\n",
      "  2.22987405e-22 -1.00275040e-21  3.23850272e-01  9.81982619e-01\n",
      "  1.75780733e-01  8.80568736e+00 -9.93824923e-22  3.95741114e-03\n",
      "  1.27703019e-01 -1.05783946e-22  3.73469978e-02  5.33919679e-01\n",
      " -2.82518891e-21  5.19797311e-01  4.22781837e-01  6.40981701e-01\n",
      "  4.75997858e-01 -1.89015818e-22  1.02743532e+00  1.36881756e+00\n",
      "  1.34032305e-01  1.74543763e-02  7.68381001e-01 -6.38049742e-23\n",
      "  7.37021527e-23  2.89115125e-01  1.60464590e-01 -1.11541573e-21\n",
      "  1.09557728e+00  6.13194919e-01 -1.61673179e-22  4.01310782e-01\n",
      "  1.50458382e-02  6.77521854e-02  2.72582190e-01  2.71438412e-01\n",
      " -2.11435673e-20  7.56780659e-02  1.47003494e+00 -6.83501754e-22\n",
      " -6.77711740e-20  4.89326918e+00 -7.68069439e-22  3.12906331e-01\n",
      " -3.52007337e-21 -4.64447952e-22 -7.53412588e-22 -1.37151531e-22\n",
      " -9.31652281e-22  5.09545970e-23  1.30070855e-22  1.42835277e+01\n",
      "  3.74516985e+00 -6.09007354e-20  1.65160549e-20 -6.97544347e-22\n",
      " -8.17563443e-22 -2.93864851e-22  3.06367983e-23  2.36142452e+00\n",
      "  9.27114115e-01  4.14430799e-20  5.95228004e-02  6.00840029e+00\n",
      "  2.85993567e-01  1.62568483e+00  6.82442553e-01  9.44994954e-01\n",
      " -7.72423665e-21  4.50366341e-04  2.11289990e+00  7.76307074e-03\n",
      "  7.38149164e-01  6.04659034e-01  9.68749379e-01  3.89895912e-21\n",
      "  6.39840860e-20  2.09287458e-21  3.52484645e-21 -6.71600823e-22\n",
      "  6.71377797e-01  2.74209065e-21  5.29928065e-02 -6.93450179e-21\n",
      "  4.02945146e-02  2.21271551e-01 -1.08315033e-22 -3.10144853e-20\n",
      " -7.87028963e-22  9.34240703e-02  5.16589351e+00  1.00731005e-02\n",
      " -2.38269892e-22 -1.08537488e-20  1.78695474e-01  9.75900622e-02\n",
      " -8.62996743e-23  1.06150381e-22  5.26830181e-01  2.52820478e-01\n",
      "  1.36863488e-01  6.34395765e-01 -3.37429606e-20  8.82383647e-03\n",
      " -2.47873809e-22 -4.93984620e-21  2.93334892e-01  1.71938856e-01\n",
      " -4.07351189e-20 -1.45262363e-21  3.78959659e-01  6.20018112e-01\n",
      " -1.35961750e-21 -8.63146136e-21 -9.17466719e-23  7.86873550e-01\n",
      "  7.03695537e-01  8.63322620e+00  2.66062550e+00  6.95899735e-01\n",
      "  5.82312501e-01  7.65785160e-01  4.36012033e-01  4.69702501e+00\n",
      "  7.39897112e-01  1.49726074e+00  1.02707822e+00  2.05765983e+00\n",
      "  1.65656428e+00  8.33583279e-01 -3.18915945e-21  6.74823701e+00\n",
      "  3.17276134e+00  2.34347254e+01  2.12078462e+00  5.34413736e-01\n",
      "  2.52416561e-21 -1.22616009e-22  2.31178079e-22 -8.05733971e-22\n",
      "  3.72048759e-22 -2.21325881e-20  7.59792178e-24  1.49731432e-01\n",
      "  1.86911150e+00  1.81826826e-22 -6.67727328e-22 -2.12250876e-21\n",
      "  1.15865711e-01 -2.40164277e-21  1.15691976e+00  9.74762160e-23\n",
      " -4.47636315e-22 -3.66614684e-21  9.50775935e-23  8.44688722e-01\n",
      "  2.36782276e-01  4.62527966e-22  6.00000000e+00  1.87234726e-01\n",
      " -2.23624158e-21  1.65526021e-02  1.38506961e+01 -2.02233794e-21\n",
      " -5.44633883e-21 -3.31516017e-22 -6.80990172e-22 -4.97949995e-21\n",
      " -9.36977371e-22  2.92290123e+00 -2.63492025e-22 -3.60417217e-21\n",
      "  2.79064559e-01  1.08489053e+00  1.73551624e-01  3.65280864e-23\n",
      " -2.09967707e-21 -9.04032594e-22 -2.79001937e-21 -3.16570369e-22\n",
      "  5.22561991e+00  6.19933505e-02 -8.70141259e-22 -4.39757240e-21\n",
      " -9.03060644e-22 -1.42566247e-22  2.03408918e-01 -5.30872818e-20\n",
      "  1.36543616e-21 -1.93410050e-22  3.75821241e-22 -3.91044715e-21\n",
      "  7.02451322e-01 -2.10782371e-22  1.67749588e-01 -9.92480491e-21\n",
      "  1.66407239e-01 -1.12458963e-20  3.61552055e-02 -2.98353020e-20\n",
      "  1.73085182e-01  2.09465440e-01  4.99859213e-22  1.34922751e-01\n",
      "  4.11472267e+00 -2.83535707e-23  1.16045752e-21  2.39684253e-01\n",
      "  1.37867162e-01  3.71583350e-22  2.34176823e-22  1.68861006e-01\n",
      "  1.90693594e-20  1.68281598e-01 -2.92039850e-22  4.38404434e-02\n",
      "  6.99836060e-01  9.42443006e-01  2.02123292e-01 -1.46011191e-20\n",
      " -1.77294807e-21 -4.20092265e-22 -3.85010198e-19 -2.15100530e-22\n",
      "  1.95164311e+00 -2.84953690e-21  2.08584814e-01 -5.14423090e-22\n",
      " -3.76387000e-20  1.70053035e+00 -5.35591347e-22  2.74062091e+00\n",
      "  7.72135543e-01  1.21068210e+00  3.37182802e+00  1.51211589e+00\n",
      "  4.31151984e-01  2.94593117e-01 -1.10285485e-21  7.34511755e-01\n",
      "  3.08941019e+00  7.24460185e-01  1.05636611e+00  5.45054926e-01\n",
      "  7.14675090e-03  2.04802379e-20  3.30628731e-21  3.44728756e-21\n",
      "  5.50101062e-22  1.13464252e-21  5.51253407e-21  2.15949390e-20\n",
      "  8.87444803e-21  1.87731702e-20  3.65323382e+00  1.43809750e-20\n",
      "  4.61953397e-21  1.01383053e+01  1.17134150e+00 -1.50049787e-22\n",
      " -4.82132778e-22  8.07346430e-23 -6.00527411e-21 -1.61109158e-22\n",
      "  3.61964529e-01 -1.01716517e-20 -1.16918191e-22  6.28711873e-02\n",
      "  1.80701746e+00  4.47027828e-02  1.77436216e-01  7.59556223e-01\n",
      " -1.17743548e-21  1.37189577e-01  6.24451718e-21 -1.26287125e-22\n",
      "  5.00342914e-22  1.03270460e-22  2.58375540e-01  1.42572809e-02\n",
      " -3.87086022e-22  1.24965055e-01 -2.53364069e-21  6.85952425e-02\n",
      "  2.72497951e+00 -4.01043226e-21 -5.02852620e-21 -5.31752444e-23\n",
      " -9.42576560e-21 -3.03618695e-20 -6.12981893e-22  1.71087266e+00\n",
      " -3.18579637e-21 -6.11578113e-21 -2.21518004e-21  3.72563005e-01\n",
      "  4.81405317e-02  4.29744845e-01  5.74760813e-23  1.01228178e-01]\n",
      "f(x): 346866396.02944195\n",
      "norm(Ex-b): 4.3733513196316246e-14\n"
     ]
    }
   ],
   "source": [
    "print('x: '+str(x.value))\n",
    "print('f(x): '+str(res))\n",
    "print('norm(Ex-b): '+str(norm(E@x.value-b)))"
   ]
  },
  {
   "cell_type": "markdown",
   "id": "6668fe04",
   "metadata": {},
   "source": [
    "## CompactSVD"
   ]
  },
  {
   "cell_type": "code",
   "execution_count": 17,
   "id": "fc97a898",
   "metadata": {},
   "outputs": [],
   "source": [
    "def compactSVD(E):\n",
    "    m = E.shape[0]\n",
    "    r = m-1\n",
    "    # Compute thin SVD\n",
    "    U, s, Vt = svd(E, full_matrices=False)\n",
    "    Um = U[:,-1]\n",
    "    U = U[:, 0:r]\n",
    "    S = np.diag(s[0:r])\n",
    "    V = Vt.T[:,0:r]\n",
    "    \n",
    "    return U, S, V, Um   "
   ]
  },
  {
   "cell_type": "code",
   "execution_count": 18,
   "id": "f7123957",
   "metadata": {},
   "outputs": [],
   "source": [
    "U, S, V, Um = compactSVD(E)"
   ]
  },
  {
   "cell_type": "code",
   "execution_count": 19,
   "id": "2410d859",
   "metadata": {},
   "outputs": [
    {
     "data": {
      "text/plain": [
       "True"
      ]
     },
     "execution_count": 19,
     "metadata": {},
     "output_type": "execute_result"
    }
   ],
   "source": [
    "np.allclose(E, U@S@V.T)"
   ]
  },
  {
   "cell_type": "markdown",
   "id": "fec05cba",
   "metadata": {},
   "source": [
    "## getBoxedx"
   ]
  },
  {
   "cell_type": "code",
   "execution_count": 20,
   "id": "4bcf5910",
   "metadata": {},
   "outputs": [],
   "source": [
    "def getBoxedx(Q, q, E, b, u, mu):\n",
    "    n = Q.shape[0]\n",
    "    x = np.zeros(n)\n",
    "    \n",
    "    for i in range(n):\n",
    "        if Q[i] == 0:\n",
    "            if mu.T @ b < q[i]*u[i] + mu.T @ (E[:,i]*u(i) - b):\n",
    "                x[i] = 0\n",
    "            else:\n",
    "                x[i] = u[i]\n",
    "        else:\n",
    "            x[i] = (-q[i] - E.T[i,:] @ mu)/(2*Q[i])\n",
    "            x[i] = max(0, min(x[i], u[i]))\n",
    "        \n",
    "    return x"
   ]
  },
  {
   "cell_type": "code",
   "execution_count": 21,
   "id": "8d52f7aa",
   "metadata": {},
   "outputs": [],
   "source": [
    "mu = np.zeros(m)"
   ]
  },
  {
   "cell_type": "code",
   "execution_count": 22,
   "id": "b90fc72f",
   "metadata": {},
   "outputs": [],
   "source": [
    "x = getBoxedx(Q, q, E, b, u, mu)"
   ]
  },
  {
   "cell_type": "code",
   "execution_count": 23,
   "id": "97b5adf6",
   "metadata": {},
   "outputs": [
    {
     "data": {
      "text/plain": [
       "array([0., 0., 0., 0., 0., 0.])"
      ]
     },
     "execution_count": 23,
     "metadata": {},
     "output_type": "execute_result"
    }
   ],
   "source": [
    "x"
   ]
  },
  {
   "cell_type": "markdown",
   "id": "fa6140c2",
   "metadata": {},
   "source": [
    "## QMCF_solver"
   ]
  },
  {
   "cell_type": "code",
   "execution_count": 103,
   "id": "9c62e7c8",
   "metadata": {},
   "outputs": [],
   "source": [
    "def QMCF_solver(Q, q, E, b, u, eps, l, lambd, best_l, m_lbm, max_iter):\n",
    "    exitFlag=1\n",
    "    n = E.shape[1]\n",
    "    m = E.shape[0]\n",
    "    U, S, V, Um = compactSVD(E)\n",
    "\n",
    "\n",
    "    # Check satisfiability condition for E*x=b\n",
    "    if np.abs(Um.T @ b) > 1.0e-10:\n",
    "        print('Ex=b unsatisfiable')\n",
    "        exitFlag = -1\n",
    "        return [], exitFlag\n",
    "\n",
    "\n",
    "    # Initilization of functions\n",
    "    def f(x):\n",
    "        return x.T @ np.diag(Q) @ x + q.T @ x\n",
    "\n",
    "    def L(x, mu):\n",
    "        return f(x) + mu.T @ (E@x - b)\n",
    "\n",
    "    def dualf(x, mu):\n",
    "        return -L(x, mu)\n",
    "    \n",
    "    # Primal and dual variables initialization\n",
    "    bar_mu = np.zeros(m)\n",
    "    bar_x = getBoxedx(Q, q, E, b, u, bar_mu)\n",
    "    x_best = []\n",
    "\n",
    "    x_lin_const = V @ pinv(S) @ U.T @ b\n",
    "    \n",
    "    # Bundle initialization\n",
    "    z = b - (E@bar_x)\n",
    "    alpha = np.dot(z, bar_mu) - dualf(bar_x, bar_mu)\n",
    "    B_z = z\n",
    "    B_alpha = alpha\n",
    "    X = bar_x\n",
    "\n",
    "    # Initialization of lower bound and upper bound\n",
    "    LB = 0\n",
    "    UB = np.Inf\n",
    "    #LB = L(bar_x, bar_mu)\n",
    "    #UB = f(bar_x)\n",
    "\n",
    "\n",
    "    # Initialization of flags\n",
    "    x_sat_const_found = False\n",
    "    num_iterations = 0\n",
    "    theta_case = 0\n",
    "    d = 0\n",
    "\n",
    "    #print('iter\\tgap||theta|| ||bar_mu|| ||bar_x|| l Case ||New z|| New alpha ||d|| step')\n",
    "    print('iter\\tgap\\t||theta||\\t||bar_mu||\\t||bar_x||\\tl\\tCase\\t||New z||\\tNew alpha\\t||d||\\tstep')\n",
    "    while(np.abs(UB-LB) >= eps and num_iterations < max_iter):\n",
    "    \n",
    "        #[bar_mu, theta, l, d, steptype] = LBM(dualf, bar_x, bar_mu, l, B_z, B_alpha, lambda, best_l, m_lbm);\n",
    "        theta = np.array([0])\n",
    "        steptype = 'NS'\n",
    "        d = 0\n",
    "\n",
    "        # Case 1: theta is a convex combinator, optimal x\n",
    "        if(np.abs(np.sum(theta)-1) <= eps and np.all((B_z.T @ theta)<eps)):\n",
    "            theta_case = 1\n",
    "            bar_x = X.T @ theta\n",
    "            x_sat_const_found = True\n",
    "\n",
    "        # Case 2: try to force x in [0,u] using a Lagrangian heuristic\n",
    "        else:\n",
    "            theta_scaled = theta;\n",
    "            if(np.sum(theta)!=1 and np.sum(theta)!=0):\n",
    "                theta_scaled = theta/np.sum(theta)\n",
    "\n",
    "            bar_x = X.T @ theta_scaled\n",
    "            bar_x = bar_x - V @ V.T @ bar_x + x_lin_const\n",
    "\n",
    "            if (np.all(bar_x >= -eps) and np.all(bar_x <= u+eps)):\n",
    "                theta_case = 2\n",
    "                theta = theta_scaled\n",
    "                x_sat_const_found = True\n",
    "\n",
    "            # Case 3: optimal x not found, find a feasible one\n",
    "            else:\n",
    "                theta_case = 3\n",
    "                bar_x = getBoxedx(Q, q, E, b, u, bar_mu)\n",
    "\n",
    "\n",
    "        # Update LB and UB if an optimal x has been found\n",
    "        if(x_sat_const_found):\n",
    "            if len(x_best) == 0:\n",
    "                x_best = bar_x\n",
    "                UB = f(x_best)\n",
    "                LB = L(x_best, bar_mu)\n",
    "            else:\n",
    "\n",
    "                # Update UB and the level parameter\n",
    "                if (f(bar_x) < f(x_best)):\n",
    "                    x_best = bar_x\n",
    "                    l = f(x_best)\n",
    "                    UB = l\n",
    "\n",
    "            # Update LB\n",
    "            if(L(bar_x, bar_mu) > LB):\n",
    "                LB = L(bar_x, bar_mu)\n",
    "\n",
    "            x_sat_const_found=False\n",
    "        \n",
    "        # Add new pair to the bundle\n",
    "        X = np.vstack((X,bar_x))\n",
    "    \n",
    "        if(np.abs(np.sum(theta)-1) <= eps):\n",
    "            newz = B_z@theta\n",
    "            newalpha = B_alpha@theta\n",
    "        else:\n",
    "            newz = b - (E@bar_x)\n",
    "            newalpha = np.dot(newz, bar_mu) - dualf(bar_x, bar_mu)\n",
    "\n",
    "        B_z = np.vstack((B_z, newz))\n",
    "        B_alpha = np.vstack((B_alpha, newalpha))\n",
    "        num_iterations = num_iterations + 1\n",
    "\n",
    "        #print(str(num_iterations)+' '+str(norm(UB-LB))+' '+str(norm(theta))+' '+str(norm(bar_mu))+' '+\n",
    "        #      str(norm(bar_x))+' '+str(l)+' '+str(theta_case)+' '+str(norm(newz))+' '+str(newalpha)+' '+\n",
    "        #      str(norm(d))+' '+steptype)\n",
    "        print(f'{num_iterations}\\t{norm(UB-LB): .4f}\\t{norm(theta): .4f}\\t{norm(bar_mu): .4f}\\t{norm(bar_x): .4f}\\t{l: .4f}\\t{theta_case}\\t{norm(newz): .4f}\\t{newalpha: .4f}\\t{norm(d): .4f}\\t{steptype}')\n",
    "        \n",
    "    if (num_iterations == max_iter):\n",
    "        print('Maximum iterations exceeded')\n",
    "        exitFlag = 2\n",
    "    \n",
    "    return x_best, exitFlag"
   ]
  },
  {
   "cell_type": "code",
   "execution_count": 104,
   "id": "5f03fbbb",
   "metadata": {},
   "outputs": [],
   "source": [
    "eps = 1e-4\n",
    "l = 6.3282e+03\n",
    "lambd = 0.5\n",
    "best_l = False\n",
    "m = 0.1\n",
    "max_iter = 50"
   ]
  },
  {
   "cell_type": "code",
   "execution_count": 105,
   "id": "26e645bb",
   "metadata": {},
   "outputs": [
    {
     "name": "stdout",
     "output_type": "stream",
     "text": [
      "iter\tgap\t||theta||\t||bar_mu||\t||bar_x||\tl\tCase\t||New z||\tNew alpha\t||d||\tstep\n"
     ]
    },
    {
     "ename": "ValueError",
     "evalue": "matmul: Input operand 1 has a mismatch in its core dimension 0, with gufunc signature (n?,k),(k,m?)->(n?,m?) (size 1 is different from 1000)",
     "output_type": "error",
     "traceback": [
      "\u001b[0;31m---------------------------------------------------------------------------\u001b[0m",
      "\u001b[0;31mValueError\u001b[0m                                Traceback (most recent call last)",
      "Cell \u001b[0;32mIn [105], line 1\u001b[0m\n\u001b[0;32m----> 1\u001b[0m x, exitflag \u001b[38;5;241m=\u001b[39m \u001b[43mQMCF_solver\u001b[49m\u001b[43m(\u001b[49m\u001b[43mQ\u001b[49m\u001b[43m,\u001b[49m\u001b[43m \u001b[49m\u001b[43mq\u001b[49m\u001b[43m,\u001b[49m\u001b[43m \u001b[49m\u001b[43mE\u001b[49m\u001b[43m,\u001b[49m\u001b[43m \u001b[49m\u001b[43mb\u001b[49m\u001b[43m,\u001b[49m\u001b[43m \u001b[49m\u001b[43mu\u001b[49m\u001b[43m,\u001b[49m\u001b[43m \u001b[49m\u001b[43meps\u001b[49m\u001b[43m,\u001b[49m\u001b[43m \u001b[49m\u001b[43ml\u001b[49m\u001b[43m,\u001b[49m\u001b[43m \u001b[49m\u001b[43mlambd\u001b[49m\u001b[43m,\u001b[49m\u001b[43m \u001b[49m\u001b[43mbest_l\u001b[49m\u001b[43m,\u001b[49m\u001b[43m \u001b[49m\u001b[43mm\u001b[49m\u001b[43m,\u001b[49m\u001b[43m \u001b[49m\u001b[43mmax_iter\u001b[49m\u001b[43m)\u001b[49m\n",
      "Cell \u001b[0;32mIn [103], line 73\u001b[0m, in \u001b[0;36mQMCF_solver\u001b[0;34m(Q, q, E, b, u, eps, l, lambd, best_l, m_lbm, max_iter)\u001b[0m\n\u001b[1;32m     70\u001b[0m \u001b[38;5;28;01mif\u001b[39;00m(np\u001b[38;5;241m.\u001b[39msum(theta)\u001b[38;5;241m!=\u001b[39m\u001b[38;5;241m1\u001b[39m \u001b[38;5;129;01mand\u001b[39;00m np\u001b[38;5;241m.\u001b[39msum(theta)\u001b[38;5;241m!=\u001b[39m\u001b[38;5;241m0\u001b[39m):\n\u001b[1;32m     71\u001b[0m     theta_scaled \u001b[38;5;241m=\u001b[39m theta\u001b[38;5;241m/\u001b[39mnp\u001b[38;5;241m.\u001b[39msum(theta)\n\u001b[0;32m---> 73\u001b[0m bar_x \u001b[38;5;241m=\u001b[39m \u001b[43mX\u001b[49m\u001b[38;5;241;43m.\u001b[39;49m\u001b[43mT\u001b[49m\u001b[43m \u001b[49m\u001b[38;5;241;43m@\u001b[39;49m\u001b[43m \u001b[49m\u001b[43mtheta_scaled\u001b[49m\n\u001b[1;32m     74\u001b[0m bar_x \u001b[38;5;241m=\u001b[39m bar_x \u001b[38;5;241m-\u001b[39m V \u001b[38;5;241m@\u001b[39m V\u001b[38;5;241m.\u001b[39mT \u001b[38;5;241m@\u001b[39m bar_x \u001b[38;5;241m+\u001b[39m x_lin_const\n\u001b[1;32m     76\u001b[0m \u001b[38;5;28;01mif\u001b[39;00m (np\u001b[38;5;241m.\u001b[39mall(bar_x \u001b[38;5;241m>\u001b[39m\u001b[38;5;241m=\u001b[39m \u001b[38;5;241m-\u001b[39meps) \u001b[38;5;129;01mand\u001b[39;00m np\u001b[38;5;241m.\u001b[39mall(bar_x \u001b[38;5;241m<\u001b[39m\u001b[38;5;241m=\u001b[39m u\u001b[38;5;241m+\u001b[39meps)):\n",
      "\u001b[0;31mValueError\u001b[0m: matmul: Input operand 1 has a mismatch in its core dimension 0, with gufunc signature (n?,k),(k,m?)->(n?,m?) (size 1 is different from 1000)"
     ]
    }
   ],
   "source": [
    "x, exitflag = QMCF_solver(Q, q, E, b, u, eps, l, lambd, best_l, m, max_iter)"
   ]
  },
  {
   "cell_type": "code",
   "execution_count": 35,
   "id": "b0fec19e",
   "metadata": {},
   "outputs": [
    {
     "data": {
      "text/plain": [
       "array([ 2.50000000e+00,  2.50000000e+00,  5.00000000e+00, -7.27453096e-17,\n",
       "        2.50000000e+00,  2.50000000e+00])"
      ]
     },
     "execution_count": 35,
     "metadata": {},
     "output_type": "execute_result"
    }
   ],
   "source": [
    "x"
   ]
  },
  {
   "cell_type": "code",
   "execution_count": 69,
   "id": "fe478905",
   "metadata": {},
   "outputs": [],
   "source": [
    "bar_x = np.zeros(n)\n",
    "bar_mu = np.zeros(m)\n",
    "z = b - (E@bar_x)\n",
    "alpha = np.dot(z, bar_mu)\n",
    "B_z = z\n",
    "B_alpha = alpha\n",
    "theta = np.ones(1)"
   ]
  },
  {
   "cell_type": "code",
   "execution_count": 88,
   "id": "78f22343",
   "metadata": {},
   "outputs": [
    {
     "data": {
      "text/plain": [
       "array([[-476., -572., -112., -204.,    0.,    0.,    0.,    0.,    0.,\n",
       "           0.,    0.,    0.,    0.,    0.,    0.,    0.,    0.,    0.,\n",
       "           0.,    0.,    0.,    0.,    0.,    0.,    0.,    0.,    0.,\n",
       "           0.,    0.,    0.,    0.,    0.,    0.,    0.,    0.,    0.,\n",
       "           0.,    0.,    0.,    0.,    0.,    0.,    0.,    0.,    0.,\n",
       "           0.,    0.,    0.,    0.,    0.,    0.,    0.,    0.,    0.,\n",
       "           0.,    0.,    0.,    0.,    0.,    0.,    0.,    0.,    0.,\n",
       "           0.,    0.,    0.,    0.,    0.,    0.,    0.,    0.,    0.,\n",
       "           0.,    0.,    0.,    0.,    0.,    0.,    0.,    0.,    0.,\n",
       "         452.,  172.,   36.,   72.,  168.,  212.,  228.,   24.]])"
      ]
     },
     "execution_count": 88,
     "metadata": {},
     "output_type": "execute_result"
    }
   ],
   "source": [
    "(B_z.T@theta).T"
   ]
  },
  {
   "cell_type": "code",
   "execution_count": 93,
   "id": "23fbc407",
   "metadata": {},
   "outputs": [
    {
     "data": {
      "text/plain": [
       "array([[-476.],\n",
       "       [-572.],\n",
       "       [-112.],\n",
       "       [-204.],\n",
       "       [   0.],\n",
       "       [   0.],\n",
       "       [   0.],\n",
       "       [   0.],\n",
       "       [   0.],\n",
       "       [   0.],\n",
       "       [   0.],\n",
       "       [   0.],\n",
       "       [   0.],\n",
       "       [   0.],\n",
       "       [   0.],\n",
       "       [   0.],\n",
       "       [   0.],\n",
       "       [   0.],\n",
       "       [   0.],\n",
       "       [   0.],\n",
       "       [   0.],\n",
       "       [   0.],\n",
       "       [   0.],\n",
       "       [   0.],\n",
       "       [   0.],\n",
       "       [   0.],\n",
       "       [   0.],\n",
       "       [   0.],\n",
       "       [   0.],\n",
       "       [   0.],\n",
       "       [   0.],\n",
       "       [   0.],\n",
       "       [   0.],\n",
       "       [   0.],\n",
       "       [   0.],\n",
       "       [   0.],\n",
       "       [   0.],\n",
       "       [   0.],\n",
       "       [   0.],\n",
       "       [   0.],\n",
       "       [   0.],\n",
       "       [   0.],\n",
       "       [   0.],\n",
       "       [   0.],\n",
       "       [   0.],\n",
       "       [   0.],\n",
       "       [   0.],\n",
       "       [   0.],\n",
       "       [   0.],\n",
       "       [   0.],\n",
       "       [   0.],\n",
       "       [   0.],\n",
       "       [   0.],\n",
       "       [   0.],\n",
       "       [   0.],\n",
       "       [   0.],\n",
       "       [   0.],\n",
       "       [   0.],\n",
       "       [   0.],\n",
       "       [   0.],\n",
       "       [   0.],\n",
       "       [   0.],\n",
       "       [   0.],\n",
       "       [   0.],\n",
       "       [   0.],\n",
       "       [   0.],\n",
       "       [   0.],\n",
       "       [   0.],\n",
       "       [   0.],\n",
       "       [   0.],\n",
       "       [   0.],\n",
       "       [   0.],\n",
       "       [   0.],\n",
       "       [   0.],\n",
       "       [   0.],\n",
       "       [   0.],\n",
       "       [   0.],\n",
       "       [   0.],\n",
       "       [   0.],\n",
       "       [   0.],\n",
       "       [   0.],\n",
       "       [ 452.],\n",
       "       [ 172.],\n",
       "       [  36.],\n",
       "       [  72.],\n",
       "       [ 168.],\n",
       "       [ 212.],\n",
       "       [ 228.],\n",
       "       [  24.]])"
      ]
     },
     "execution_count": 93,
     "metadata": {},
     "output_type": "execute_result"
    }
   ],
   "source": [
    "(B_z.T @ theta)"
   ]
  },
  {
   "cell_type": "code",
   "execution_count": 78,
   "id": "9763ccb1",
   "metadata": {},
   "outputs": [],
   "source": [
    "B_z = np.vstack((B_z, z))\n",
    "theta = np.vstack((theta,2))"
   ]
  },
  {
   "cell_type": "code",
   "execution_count": null,
   "id": "8ad98df3",
   "metadata": {},
   "outputs": [],
   "source": []
  },
  {
   "cell_type": "code",
   "execution_count": 28,
   "id": "9e9380c6",
   "metadata": {},
   "outputs": [],
   "source": [
    "# TODO:\n",
    "# - Cambiare gli elementi molto piccoli in 0 ( data[data<threshold] = 0 )"
   ]
  }
 ],
 "metadata": {
  "kernelspec": {
   "display_name": "Python 3 (ipykernel)",
   "language": "python",
   "name": "python3"
  },
  "language_info": {
   "codemirror_mode": {
    "name": "ipython",
    "version": 3
   },
   "file_extension": ".py",
   "mimetype": "text/x-python",
   "name": "python",
   "nbconvert_exporter": "python",
   "pygments_lexer": "ipython3",
   "version": "3.9.13"
  }
 },
 "nbformat": 4,
 "nbformat_minor": 5
}
