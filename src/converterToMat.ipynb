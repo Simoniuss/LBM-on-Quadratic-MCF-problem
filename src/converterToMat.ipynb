{
  "nbformat": 4,
  "nbformat_minor": 0,
  "metadata": {
    "colab": {
      "provenance": [],
      "collapsed_sections": []
    },
    "kernelspec": {
      "name": "python3",
      "display_name": "Python 3"
    },
    "language_info": {
      "name": "python"
    }
  },
  "cells": [
    {
      "cell_type": "markdown",
      "source": [
        "# Converter from .dmx and .qfc file to .mat"
      ],
      "metadata": {
        "id": "jzTNfmQO-pRH"
      }
    },
    {
      "cell_type": "code",
      "execution_count": null,
      "metadata": {
        "id": "YbVFxf6TOxlR"
      },
      "outputs": [],
      "source": [
        "import numpy as np\n",
        "import matplotlib.pyplot as plt\n",
        "from scipy import io"
      ]
    },
    {
      "cell_type": "code",
      "source": [
        "DMX = 'netgen-1000-1-0-a-a-ns.dmx'\n",
        "QFC = 'netgen-1000-1-0-a-a-ns.qfc'\n",
        "MCF = 'MCF_1000.mat'"
      ],
      "metadata": {
        "id": "RXKWHd5FDoEH"
      },
      "execution_count": null,
      "outputs": []
    },
    {
      "cell_type": "markdown",
      "source": [
        "## Read .dmx which contains the problem definitions: m, n, E, b, u, q\n"
      ],
      "metadata": {
        "id": "P4wTqlUw-3_2"
      }
    },
    {
      "cell_type": "code",
      "source": [
        "with open(DMX) as f:\n",
        "    lines = f.readlines()"
      ],
      "metadata": {
        "id": "ovw8DRBlO452"
      },
      "execution_count": null,
      "outputs": []
    },
    {
      "cell_type": "code",
      "source": [
        "m = 0   #Number of nodes\n",
        "n = 0   #Number of edges\n",
        "b = []  #Vector with capacities of nodes\n",
        "E = []  #Incidence matrix of the graph\n",
        "u = []  #Right box constraints\n",
        "q = []\n",
        "\n",
        "arc_index = 0\n",
        "\n",
        "for l in lines:\n",
        "  # p contains the definition of the problem\n",
        "  if l[0] == 'p':\n",
        "    w = l.split()\n",
        "\n",
        "    # w[2] has the number of nodes\n",
        "    m = int(w[2])\n",
        "\n",
        "    # w[3] has the number of edges\n",
        "    n = int(w[3])\n",
        "    b = np.zeros(m, dtype=float)\n",
        "    E = np.zeros((m, n), dtype=float)\n",
        "    u = np.zeros(n, dtype=float)\n",
        "    q = np.zeros(n, dtype=float)\n",
        "\n",
        "    # n contains the properties of nodes\n",
        "  elif l[0] == 'n':\n",
        "    w = l.split()\n",
        "\n",
        "    # w[1] is the id of the node, w[2] is the capacity b of the node\n",
        "    b[int(w[1])-1] = float(w[2])\n",
        "\n",
        "    # a contains the properties of edges\n",
        "  elif l[0] == 'a':\n",
        "     w = l.split()\n",
        "\n",
        "     # w[1] is the id of the node from where the edge start\n",
        "     E[int(w[1])-1, arc_index] = -1\n",
        "\n",
        "     # w[2] is the id of the node where the edge is directed\n",
        "     E[int(w[2])-1, arc_index] = 1\n",
        "\n",
        "     # w[4] is the maximum capacity of the edge\n",
        "     u[arc_index] = float(w[4])\n",
        "\n",
        "     # w[5] is the linear cost of the objective function q\n",
        "     q[arc_index] = float(w[5])\n",
        "\n",
        "     # arc_index is an id for edges\n",
        "     arc_index = arc_index+1\n",
        "\n",
        "\n"
      ],
      "metadata": {
        "id": "Y3fRuS_gPhIJ"
      },
      "execution_count": null,
      "outputs": []
    },
    {
      "cell_type": "markdown",
      "source": [
        "### Vector b"
      ],
      "metadata": {
        "id": "SfT_Mo6sBFkD"
      }
    },
    {
      "cell_type": "code",
      "source": [
        "b = -b"
      ],
      "metadata": {
        "id": "4FSJDVW1BcSF"
      },
      "execution_count": null,
      "outputs": []
    },
    {
      "cell_type": "code",
      "source": [
        "print(m,n)\n",
        "print(b.shape)\n",
        "plt.hist(b, bins='auto')\n",
        "plt.show()"
      ],
      "metadata": {
        "colab": {
          "base_uri": "https://localhost:8080/",
          "height": 300
        },
        "id": "-dkDvdOVSrFH",
        "outputId": "cfdf0e9c-502e-42dd-a23a-c4849e5b68c0"
      },
      "execution_count": null,
      "outputs": [
        {
          "output_type": "stream",
          "name": "stdout",
          "text": [
            "89 1000\n",
            "(89,)\n"
          ]
        },
        {
          "output_type": "display_data",
          "data": {
            "text/plain": [
              "<Figure size 432x288 with 1 Axes>"
            ],
            "image/png": "[encoded data removed]"
          },
          "metadata": {
            "needs_background": "light"
          }
        }
      ]
    },
    {
      "cell_type": "markdown",
      "source": [
        "### Vector u"
      ],
      "metadata": {
        "id": "sRcDnj5cBT3F"
      }
    },
    {
      "cell_type": "code",
      "source": [
        "print(u.shape)\n",
        "plt.hist(u, bins='auto')\n",
        "plt.show()"
      ],
      "metadata": {
        "colab": {
          "base_uri": "https://localhost:8080/",
          "height": 282
        },
        "id": "qg6LQy2MBKMb",
        "outputId": "aff6f575-0933-4e2c-d00a-1af72aa0470a"
      },
      "execution_count": null,
      "outputs": [
        {
          "output_type": "stream",
          "name": "stdout",
          "text": [
            "(1000,)\n"
          ]
        },
        {
          "output_type": "display_data",
          "data": {
            "text/plain": [
              "<Figure size 432x288 with 1 Axes>"
            ],
            "image/png": "[encoded data removed]"
          },
          "metadata": {
            "needs_background": "light"
          }
        }
      ]
    },
    {
      "cell_type": "markdown",
      "source": [
        "### Incidence matrix E"
      ],
      "metadata": {
        "id": "ZWP88OCVBWq3"
      }
    },
    {
      "cell_type": "code",
      "source": [
        "print(E.shape)\n",
        "plt.figure(figsize=(20, 20))\n",
        "plt.spy(E, markersize=0.5)"
      ],
      "metadata": {
        "colab": {
          "base_uri": "https://localhost:8080/",
          "height": 152
        },
        "id": "DimxiYXBUnr0",
        "outputId": "394e8d8e-b968-4e79-97d9-db61ad40056a"
      },
      "execution_count": null,
      "outputs": [
        {
          "output_type": "stream",
          "name": "stdout",
          "text": [
            "(89, 1000)\n"
          ]
        },
        {
          "output_type": "execute_result",
          "data": {
            "text/plain": [
              "<matplotlib.lines.Line2D at 0x7fa4f1eb0490>"
            ]
          },
          "metadata": {},
          "execution_count": 18
        },
        {
          "output_type": "display_data",
          "data": {
            "text/plain": [
              "<Figure size 1440x1440 with 1 Axes>"
            ],
            "image/png": "[encoded data removed]"
          },
          "metadata": {
            "needs_background": "light"
          }
        }
      ]
    },
    {
      "cell_type": "code",
      "source": [
        "# Number of disconnected nodes to check if the graph is connected\n",
        "disconnected_nodes = 0\n",
        "for col in E:\n",
        "  if len(np.nonzero(col)[0]) == 0:\n",
        "    disconnected_nodes = disconnected_nodes+1\n",
        "\n",
        "print(disconnected_nodes)"
      ],
      "metadata": {
        "colab": {
          "base_uri": "https://localhost:8080/"
        },
        "id": "w0roNAGTVFTx",
        "outputId": "6742f2f8-e4ce-48a2-abe4-6db2891ba7b0"
      },
      "execution_count": null,
      "outputs": [
        {
          "output_type": "stream",
          "name": "stdout",
          "text": [
            "0\n"
          ]
        }
      ]
    },
    {
      "cell_type": "markdown",
      "source": [
        "## Read .qfc which contains Q for the objective function of the problem"
      ],
      "metadata": {
        "id": "Ravt8SKQBfPE"
      }
    },
    {
      "cell_type": "code",
      "source": [
        "with open(QFC) as f:\n",
        "    lines = f.readlines()"
      ],
      "metadata": {
        "id": "HWjWlZVFVi27"
      },
      "execution_count": null,
      "outputs": []
    },
    {
      "cell_type": "code",
      "source": [
        "Q = np.array(lines[2].split(), dtype=float)"
      ],
      "metadata": {
        "id": "7hWevC3LVpeL"
      },
      "execution_count": null,
      "outputs": []
    },
    {
      "cell_type": "code",
      "source": [
        "print(q.shape)\n",
        "plt.hist(q, bins='auto')\n",
        "plt.show()"
      ],
      "metadata": {
        "colab": {
          "base_uri": "https://localhost:8080/",
          "height": 282
        },
        "id": "dhnwxXn5BVGT",
        "outputId": "a792e441-775a-4308-fa2a-aa706118ce3a"
      },
      "execution_count": null,
      "outputs": [
        {
          "output_type": "stream",
          "name": "stdout",
          "text": [
            "(1000,)\n"
          ]
        },
        {
          "output_type": "display_data",
          "data": {
            "text/plain": [
              "<Figure size 432x288 with 1 Axes>"
            ],
            "image/png": "[encoded data removed]"
          },
          "metadata": {
            "needs_background": "light"
          }
        }
      ]
    },
    {
      "cell_type": "code",
      "source": [
        "plt.title('Distribution of q')\n",
        "plt.xlabel('i-th q')\n",
        "plt.ylabel('log(q_i)')\n",
        "plt.yscale('log')\n",
        "plt.plot(np.sort(q))\n",
        "plt.show()"
      ],
      "metadata": {
        "colab": {
          "base_uri": "https://localhost:8080/",
          "height": 295
        },
        "id": "P55HJ9e6CbA5",
        "outputId": "3c247d75-e4f9-489e-f408-fd1117441821"
      },
      "execution_count": null,
      "outputs": [
        {
          "output_type": "display_data",
          "data": {
            "text/plain": [
              "<Figure size 432x288 with 1 Axes>"
            ],
            "image/png": "[encoded data removed]"
          },
          "metadata": {
            "needs_background": "light"
          }
        }
      ]
    },
    {
      "cell_type": "code",
      "source": [
        "print(Q.shape)\n",
        "plt.hist(Q, bins='auto')\n",
        "plt.show()"
      ],
      "metadata": {
        "colab": {
          "base_uri": "https://localhost:8080/",
          "height": 282
        },
        "id": "_XSi4nfeYkwK",
        "outputId": "063820bc-e428-49c2-9ff7-12d13a63265d"
      },
      "execution_count": null,
      "outputs": [
        {
          "output_type": "stream",
          "name": "stdout",
          "text": [
            "(1000,)\n"
          ]
        },
        {
          "output_type": "display_data",
          "data": {
            "text/plain": [
              "<Figure size 432x288 with 1 Axes>"
            ],
            "image/png": "[encoded data removed]"
          },
          "metadata": {
            "needs_background": "light"
          }
        }
      ]
    },
    {
      "cell_type": "code",
      "source": [
        "plt.title('Distribution of Q')\n",
        "plt.xlabel('i-th Q')\n",
        "plt.ylabel('log(Q_i)')\n",
        "plt.yscale('log')\n",
        "plt.plot(np.sort(Q))\n",
        "plt.show()"
      ],
      "metadata": {
        "colab": {
          "base_uri": "https://localhost:8080/",
          "height": 295
        },
        "id": "R67zUNruFBbU",
        "outputId": "ff05c5bc-6896-4baa-9f14-bca5f936450d"
      },
      "execution_count": null,
      "outputs": [
        {
          "output_type": "display_data",
          "data": {
            "text/plain": [
              "<Figure size 432x288 with 1 Axes>"
            ],
            "image/png": "[encoded data removed]"
          },
          "metadata": {
            "needs_background": "light"
          }
        }
      ]
    },
    {
      "cell_type": "markdown",
      "source": [
        "## Save problem .mat"
      ],
      "metadata": {
        "id": "dIrMhLC-BwIz"
      }
    },
    {
      "cell_type": "code",
      "source": [
        "assert disconnected_nodes == 0, 'check graph G'\n",
        "assert m == E.shape[0], 'check E shape'\n",
        "assert n == E.shape[1], 'check E shape'\n",
        "assert n == u.shape[0], 'check u shape'\n",
        "assert m == b.shape[0], 'check b shape'\n",
        "assert n == Q.shape[0], 'check Q shape'\n",
        "assert n == q.shape[0], 'check q shape'"
      ],
      "metadata": {
        "id": "zMk5Q36vBu4I"
      },
      "execution_count": null,
      "outputs": []
    },
    {
      "cell_type": "code",
      "source": [
        "io.savemat(MCF, {'E':E, 'u':u, 'b':b, 'Q':Q, 'q':q})"
      ],
      "metadata": {
        "id": "03G_08RwWiXo"
      },
      "execution_count": null,
      "outputs": []
    }
  ]
}