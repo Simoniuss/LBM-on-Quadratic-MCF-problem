{
  "nbformat": 4,
  "nbformat_minor": 0,
  "metadata": {
    "colab": {
      "provenance": [],
      "collapsed_sections": []
    },
    "kernelspec": {
      "name": "python3",
      "display_name": "Python 3"
    },
    "language_info": {
      "name": "python"
    }
  },
  "cells": [
    {
      "cell_type": "markdown",
      "source": [
        "# Converter from .dmx and .qfc file to .mat"
      ],
      "metadata": {
        "id": "jzTNfmQO-pRH"
      }
    },
    {
      "cell_type": "code",
      "execution_count": 3,
      "metadata": {
        "id": "YbVFxf6TOxlR"
      },
      "outputs": [],
      "source": [
        "import numpy as np\n",
        "import matplotlib.pyplot as plt\n",
        "from scipy import io"
      ]
    },
    {
      "cell_type": "code",
      "source": [
        "DMX = 'netgen-1000-1-0-a-a-ns.dmx'\n",
        "QFC = 'netgen-1000-1-0-a-a-ns.qfc'\n",
        "MCF = 'MCF_1000.mat'"
      ],
      "metadata": {
        "id": "RXKWHd5FDoEH"
      },
      "execution_count": 26,
      "outputs": []
    },
    {
      "cell_type": "markdown",
      "source": [
        "## Read .dmx which contains the problem definitions: m, n, E, b, u\n"
      ],
      "metadata": {
        "id": "P4wTqlUw-3_2"
      }
    },
    {
      "cell_type": "code",
      "source": [
        "with open(DMX) as f:\n",
        "    lines = f.readlines()"
      ],
      "metadata": {
        "id": "ovw8DRBlO452"
      },
      "execution_count": 5,
      "outputs": []
    },
    {
      "cell_type": "code",
      "source": [
        "print(lines)"
      ],
      "metadata": {
        "colab": {
          "base_uri": "https://localhost:8080/"
        },
        "id": "mJdV2m3KPSpO",
        "outputId": "64998a6e-1c06-4784-c7e8-e53e7477bb28"
      },
      "execution_count": 6,
      "outputs": [
        {
          "output_type": "stream",
          "name": "stdout",
          "text": [
            "['c NETGEN flow network generator (C version)\\n', 'c  Problem  1 input parameters\\n', 'c  ---------------------------\\n', 'c   Random seed:           730246766\\n', 'c   Number of nodes:              89\\n', 'c   Source nodes:                  6\\n', 'c   Sink nodes:                    3\\n', 'c   Number of arcs:             1000\\n', 'c   Minimum arc cost:              1\\n', 'c   Maximum arc cost:             38\\n', 'c   Total supply:                603\\n', 'c   Transshipment -\\n', 'c     Sources:                     0\\n', 'c     Sinks:                       0\\n', 'c   Skeleton arcs -\\n', 'c     With max cost:               0%\\n', 'c     Capacitated:               100%\\n', 'c   Minimum arc capacity:         36\\n', 'c   Maximum arc capacity:        210\\n', 'c\\n', 'c  *** Minimum cost flow ***\\n', 'c\\n', 'p min 89 1000\\n', 'n 1 109\\n', 'n 2 43\\n', 'n 3 154\\n', 'n 4 91\\n', 'n 5 137\\n', 'n 6 69\\n', 'n 87 -420\\n', 'n 88 -181\\n', 'n 89 -2\\n', 'a 1 60 0 109 33\\n', 'a 1 49 0 185 17\\n', 'a 1 28 0 82 35\\n', 'a 1 65 0 43 24\\n', 'a 1 53 0 39 32\\n', 'a 1 45 0 152 25\\n', 'a 21 43 0 109 29\\n', 'a 21 13 0 202 34\\n', 'a 21 79 0 147 1\\n', 'a 21 45 0 51 4\\n', 'a 21 52 0 181 15\\n', 'a 21 81 0 117 32\\n', 'a 21 69 0 102 37\\n', 'a 22 74 0 109 10\\n', 'a 22 57 0 158 17\\n', 'a 22 58 0 120 37\\n', 'a 22 36 0 143 17\\n', 'a 22 38 0 187 2\\n', 'a 22 18 0 49 11\\n', 'a 22 28 0 111 37\\n', 'a 22 39 0 58 1\\n', 'a 22 73 0 93 19\\n', 'a 22 30 0 70 7\\n', 'a 22 27 0 55 31\\n', 'a 22 48 0 71 34\\n', 'a 22 68 0 184 15\\n', 'a 22 37 0 116 14\\n', 'a 23 24 0 109 33\\n', 'a 23 47 0 44 33\\n', 'a 23 87 0 143 14\\n', 'a 23 38 0 142 12\\n', 'a 23 60 0 37 28\\n', 'a 23 8 0 133 12\\n', 'a 23 73 0 51 26\\n', 'a 23 34 0 165 28\\n', 'a 23 56 0 187 6\\n', 'a 23 25 0 201 19\\n', 'a 23 84 0 196 13\\n', 'a 23 45 0 150 8\\n', 'a 24 25 0 109 1\\n', 'a 24 51 0 167 12\\n', 'a 24 7 0 71 20\\n', 'a 24 33 0 83 13\\n', 'a 24 76 0 116 4\\n', 'a 24 74 0 67 10\\n', 'a 24 47 0 200 4\\n', 'a 24 12 0 61 16\\n', 'a 24 73 0 37 28\\n', 'a 24 34 0 178 27\\n', 'a 24 9 0 207 31\\n', 'a 25 64 0 109 12\\n', 'a 25 85 0 182 15\\n', 'a 25 76 0 79 5\\n', 'a 25 51 0 176 17\\n', 'a 25 44 0 204 32\\n', 'a 25 57 0 71 5\\n', 'a 25 80 0 43 35\\n', 'a 25 52 0 192 12\\n', 'a 25 40 0 174 14\\n', 'a 25 39 0 160 25\\n', 'a 25 88 0 46 37\\n', 'a 25 47 0 149 17\\n', 'a 29 23 0 109 30\\n', 'a 29 79 0 144 18\\n', 'a 29 48 0 78 24\\n', 'a 29 19 0 205 33\\n', 'a 29 68 0 57 20\\n', 'a 29 69 0 55 8\\n', 'a 29 22 0 73 18\\n', 'a 29 45 0 208 14\\n', 'a 29 7 0 44 26\\n', 'a 29 16 0 105 24\\n', 'a 29 73 0 87 22\\n', 'a 29 26 0 150 32\\n', 'a 40 73 0 109 13\\n', 'a 40 86 0 86 1\\n', 'a 40 41 0 199 2\\n', 'a 42 29 0 109 5\\n', 'a 42 74 0 109 24\\n', 'a 42 23 0 100 7\\n', 'a 42 72 0 127 21\\n', 'a 42 38 0 41 7\\n', 'a 43 22 0 109 11\\n', 'a 43 33 0 57 8\\n', 'a 43 54 0 53 27\\n', 'a 43 73 0 87 35\\n', 'a 43 82 0 188 31\\n', 'a 43 74 0 113 34\\n', 'a 43 9 0 120 14\\n', 'a 48 69 0 109 35\\n', 'a 48 58 0 106 20\\n', 'a 48 56 0 135 1\\n', 'a 48 20 0 179 33\\n', 'a 48 46 0 208 29\\n', 'a 48 84 0 64 33\\n', 'a 48 62 0 78 17\\n', 'a 48 72 0 129 10\\n', 'a 48 22 0 138 28\\n', 'a 48 9 0 79 27\\n', 'a 48 59 0 149 14\\n', 'a 48 21 0 69 28\\n', 'a 48 38 0 180 22\\n', 'a 48 64 0 152 24\\n', 'a 48 33 0 131 7\\n', 'a 48 60 0 176 1\\n', 'a 48 31 0 199 8\\n', 'a 57 71 0 109 24\\n', 'a 57 87 0 109 9\\n', 'a 57 25 0 80 21\\n', 'a 57 13 0 136 28\\n', 'a 57 43 0 58 34\\n', 'a 57 19 0 123 1\\n', 'a 57 53 0 109 36\\n', 'a 57 74 0 124 25\\n', 'a 57 62 0 37 27\\n', 'a 57 56 0 152 28\\n', 'a 57 26 0 154 36\\n', 'a 60 21 0 109 5\\n', 'a 60 76 0 67 14\\n', 'a 60 74 0 168 27\\n', 'a 60 70 0 48 15\\n', 'a 60 52 0 108 31\\n', 'a 60 10 0 81 23\\n', 'a 60 75 0 133 16\\n', 'a 60 16 0 153 3\\n', 'a 60 49 0 140 18\\n', 'a 60 33 0 139 31\\n', 'a 60 47 0 207 34\\n', 'a 60 61 0 91 6\\n', 'a 60 7 0 157 7\\n', 'a 60 46 0 194 31\\n', 'a 64 40 0 109 2\\n', 'a 64 60 0 113 16\\n', 'a 64 37 0 115 26\\n', 'a 64 26 0 123 11\\n', 'a 64 58 0 148 22\\n', 'a 64 11 0 141 12\\n', 'a 64 35 0 115 8\\n', 'a 64 56 0 37 12\\n', 'a 64 34 0 173 26\\n', 'a 64 22 0 105 37\\n', 'a 64 45 0 110 3\\n', 'a 64 76 0 77 7\\n', 'a 64 25 0 142 13\\n', 'a 64 36 0 179 8\\n', 'a 64 66 0 69 26\\n', 'a 64 9 0 149 17\\n', 'a 64 50 0 133 4\\n', 'a 69 57 0 109 14\\n', 'a 69 51 0 161 1\\n', 'a 69 27 0 108 6\\n', 'a 69 31 0 142 6\\n', 'a 69 53 0 96 32\\n', 'a 69 86 0 77 1\\n', 'a 69 63 0 68 19\\n', 'a 69 18 0 76 35\\n', 'a 69 54 0 67 14\\n', 'a 69 78 0 97 12\\n', 'a 69 28 0 205 15\\n', 'a 69 71 0 132 5\\n', 'a 69 46 0 168 16\\n', 'a 69 58 0 148 6\\n', 'a 69 25 0 165 36\\n', 'a 69 35 0 204 14\\n', 'a 69 70 0 49 7\\n', 'a 69 48 0 70 6\\n', 'a 69 59 0 161 9\\n', 'a 69 81 0 54 12\\n', 'a 71 85 0 109 24\\n', 'a 71 78 0 36 13\\n', 'a 71 27 0 108 20\\n', 'a 71 86 0 189 35\\n', 'a 71 64 0 130 29\\n', 'a 71 43 0 72 25\\n', 'a 71 87 0 188 18\\n', 'a 71 26 0 52 27\\n', 'a 71 39 0 38 28\\n', 'a 71 53 0 153 6\\n', 'a 71 52 0 168 36\\n', 'a 71 54 0 169 24\\n', 'a 71 76 0 203 35\\n', 'a 71 68 0 84 33\\n', 'a 71 79 0 53 32\\n', 'a 71 22 0 71 3\\n', 'a 71 57 0 180 29\\n', 'a 71 82 0 200 29\\n', 'a 71 30 0 207 15\\n', 'a 73 48 0 109 15\\n', 'a 73 50 0 146 23\\n', 'a 73 40 0 91 36\\n', 'a 73 23 0 118 17\\n', 'a 73 10 0 114 34\\n', 'a 73 11 0 66 32\\n', 'a 73 52 0 142 8\\n', 'a 73 36 0 105 24\\n', 'a 73 60 0 184 23\\n', 'a 73 51 0 155 35\\n', 'a 73 30 0 207 5\\n', 'a 73 29 0 38 1\\n', 'a 73 22 0 40 15\\n', 'a 74 42 0 109 18\\n', 'a 74 35 0 124 33\\n', 'a 74 7 0 134 36\\n', 'a 74 47 0 104 16\\n', 'a 85 86 0 109 12\\n', 'a 85 62 0 142 20\\n', 'a 85 70 0 65 12\\n', 'a 85 55 0 181 21\\n', 'a 85 56 0 113 1\\n', 'a 85 19 0 113 14\\n', 'a 85 50 0 167 35\\n', 'a 85 22 0 105 31\\n', 'a 85 33 0 188 16\\n', 'a 85 31 0 169 4\\n', 'a 85 49 0 171 16\\n', 'a 85 16 0 115 5\\n', 'a 85 46 0 203 13\\n', 'a 86 88 0 109 2\\n', 'a 86 80 0 49 19\\n', 'a 2 33 0 43 3\\n', 'a 2 57 0 43 2\\n', 'a 2 63 0 173 30\\n', 'a 2 47 0 170 25\\n', 'a 2 69 0 50 8\\n', 'a 2 77 0 192 13\\n', 'a 2 67 0 206 16\\n', 'a 2 35 0 47 35\\n', 'a 2 52 0 129 33\\n', 'a 8 80 0 43 36\\n', 'a 8 66 0 50 8\\n', 'a 8 23 0 62 28\\n', 'a 8 75 0 147 9\\n', 'a 8 65 0 198 16\\n', 'a 8 11 0 50 23\\n', 'a 8 13 0 128 27\\n', 'a 8 64 0 95 36\\n', 'a 8 62 0 172 37\\n', 'a 8 53 0 163 11\\n', 'a 8 21 0 79 33\\n', 'a 8 16 0 174 32\\n', 'a 8 61 0 152 28\\n', 'a 8 22 0 201 4\\n', 'a 8 41 0 196 26\\n', 'a 10 15 0 43 36\\n', 'a 10 38 0 202 29\\n', 'a 10 81 0 100 9\\n', 'a 10 8 0 126 24\\n', 'a 10 59 0 65 21\\n', 'a 10 19 0 108 13\\n', 'a 10 33 0 108 7\\n', 'a 10 70 0 130 21\\n', 'a 10 56 0 164 31\\n', 'a 10 29 0 207 13\\n', 'a 10 83 0 171 33\\n', 'a 10 57 0 169 12\\n', 'a 10 77 0 199 15\\n', 'a 10 80 0 160 20\\n', 'a 10 53 0 53 8\\n', 'a 10 62 0 159 28\\n', 'a 10 20 0 206 8\\n', 'a 10 66 0 191 23\\n', 'a 10 13 0 54 37\\n', 'a 10 65 0 96 1\\n', 'a 15 54 0 43 27\\n', 'a 15 70 0 101 12\\n', 'a 15 28 0 163 15\\n', 'a 15 79 0 199 25\\n', 'a 15 20 0 88 28\\n', 'a 15 22 0 138 4\\n', 'a 15 35 0 181 17\\n', 'a 15 82 0 192 10\\n', 'a 15 10 0 202 18\\n', 'a 15 42 0 179 2\\n', 'a 15 68 0 121 4\\n', 'a 15 58 0 203 37\\n', 'a 18 87 0 43 23\\n', 'a 18 42 0 163 7\\n', 'a 18 65 0 56 25\\n', 'a 18 80 0 84 3\\n', 'a 33 79 0 43 6\\n', 'a 33 71 0 62 13\\n', 'a 33 44 0 185 36\\n', 'a 33 66 0 51 22\\n', 'a 33 16 0 84 2\\n', 'a 33 57 0 147 1\\n', 'a 33 68 0 187 35\\n', 'a 33 10 0 44 1\\n', 'a 33 75 0 135 9\\n', 'a 33 20 0 111 6\\n', 'a 33 34 0 143 35\\n', 'a 33 21 0 120 28\\n', 'a 33 32 0 207 8\\n', 'a 33 86 0 143 26\\n', 'a 33 9 0 68 31\\n', 'a 33 43 0 51 16\\n', 'a 33 40 0 194 28\\n', 'a 33 30 0 167 7\\n', 'a 33 17 0 88 36\\n', 'a 37 10 0 43 29\\n', 'a 37 49 0 165 5\\n', 'a 37 11 0 87 2\\n', 'a 37 65 0 128 26\\n', 'a 37 86 0 183 20\\n', 'a 37 53 0 85 15\\n', 'a 37 40 0 118 9\\n', 'a 37 57 0 171 18\\n', 'a 37 8 0 129 8\\n', 'a 37 23 0 141 28\\n', 'a 37 7 0 123 35\\n', 'a 37 9 0 80 3\\n', 'a 37 22 0 154 1\\n', 'a 37 13 0 74 19\\n', 'a 52 70 0 43 11\\n', 'a 52 35 0 89 32\\n', 'a 52 42 0 52 14\\n', 'a 52 54 0 128 10\\n', 'a 52 28 0 41 33\\n', 'a 52 81 0 194 8\\n', 'a 52 78 0 175 9\\n', 'a 53 18 0 43 3\\n', 'a 53 88 0 43 17\\n', 'a 53 26 0 142 27\\n', 'a 53 30 0 82 11\\n', 'a 53 61 0 146 35\\n', 'a 53 54 0 46 1\\n', 'a 53 20 0 64 32\\n', 'a 53 60 0 69 15\\n', 'a 53 9 0 38 13\\n', 'a 53 66 0 137 23\\n', 'a 54 75 0 43 21\\n', 'a 54 78 0 170 18\\n', 'a 54 11 0 85 15\\n', 'a 62 83 0 43 3\\n', 'a 62 63 0 61 25\\n', 'a 62 71 0 173 8\\n', 'a 62 20 0 175 15\\n', 'a 70 62 0 43 33\\n', 'a 70 13 0 66 18\\n', 'a 70 16 0 195 21\\n', 'a 70 32 0 120 5\\n', 'a 70 46 0 41 21\\n', 'a 70 78 0 107 32\\n', 'a 70 47 0 172 17\\n', 'a 70 25 0 147 8\\n', 'a 70 56 0 63 12\\n', 'a 70 88 0 40 11\\n', 'a 70 44 0 133 4\\n', 'a 70 50 0 155 16\\n', 'a 75 53 0 43 35\\n', 'a 75 35 0 39 12\\n', 'a 75 68 0 200 8\\n', 'a 75 32 0 69 15\\n', 'a 75 76 0 40 14\\n', 'a 75 34 0 183 20\\n', 'a 75 51 0 186 26\\n', 'a 75 15 0 46 3\\n', 'a 75 42 0 180 27\\n', 'a 75 11 0 62 10\\n', 'a 75 38 0 90 33\\n', 'a 75 25 0 192 10\\n', 'a 79 8 0 43 30\\n', 'a 79 83 0 181 31\\n', 'a 79 20 0 37 13\\n', 'a 79 21 0 180 25\\n', 'a 79 82 0 45 20\\n', 'a 79 63 0 170 28\\n', 'a 79 65 0 199 13\\n', 'a 79 29 0 93 13\\n', 'a 79 74 0 95 35\\n', 'a 79 17 0 197 9\\n', 'a 79 7 0 204 34\\n', 'a 79 87 0 177 28\\n', 'a 79 46 0 188 30\\n', 'a 79 68 0 160 23\\n', 'a 79 41 0 201 12\\n', 'a 79 47 0 46 23\\n', 'a 79 35 0 118 34\\n', 'a 79 59 0 171 32\\n', 'a 79 43 0 55 29\\n', 'a 80 52 0 43 28\\n', 'a 80 11 0 191 16\\n', 'a 80 14 0 148 6\\n', 'a 80 28 0 152 3\\n', 'a 83 37 0 43 21\\n', 'a 83 47 0 127 8\\n', 'a 83 22 0 179 13\\n', 'a 83 68 0 191 22\\n', 'a 83 20 0 182 26\\n', 'a 83 48 0 163 29\\n', 'a 83 61 0 103 10\\n', 'a 83 75 0 53 18\\n', 'a 83 13 0 134 10\\n', 'a 83 64 0 106 11\\n', 'a 83 42 0 39 37\\n', 'a 3 20 0 154 25\\n', 'a 3 26 0 61 2\\n', 'a 3 60 0 104 25\\n', 'a 3 85 0 118 27\\n', 'a 3 59 0 160 31\\n', 'a 3 35 0 149 35\\n', 'a 3 41 0 105 7\\n', 'a 3 9 0 46 28\\n', 'a 3 48 0 98 13\\n', 'a 3 10 0 55 5\\n', 'a 3 73 0 164 22\\n', 'a 3 14 0 76 31\\n', 'a 3 80 0 120 21\\n', 'a 3 53 0 180 31\\n', 'a 3 38 0 168 26\\n', 'a 3 67 0 163 5\\n', 'a 7 50 0 154 26\\n', 'a 7 34 0 192 18\\n', 'a 7 15 0 69 17\\n', 'a 7 66 0 77 13\\n', 'a 7 64 0 201 17\\n', 'a 7 16 0 52 22\\n', 'a 7 57 0 180 34\\n', 'a 7 77 0 138 8\\n', 'a 7 9 0 151 11\\n', 'a 7 13 0 111 24\\n', 'a 7 76 0 204 4\\n', 'a 7 83 0 163 12\\n', 'a 7 85 0 186 18\\n', 'a 7 27 0 142 28\\n', 'a 7 24 0 68 30\\n', 'a 7 33 0 160 32\\n', 'a 7 44 0 70 11\\n', 'a 7 39 0 150 28\\n', 'a 9 68 0 154 24\\n', 'a 9 19 0 72 35\\n', 'a 9 49 0 198 27\\n', 'a 9 54 0 132 28\\n', 'a 13 34 0 154 33\\n', 'a 13 9 0 107 2\\n', 'a 13 76 0 90 7\\n', 'a 13 22 0 149 34\\n', 'a 13 15 0 181 32\\n', 'a 13 31 0 88 10\\n', 'a 13 36 0 171 9\\n', 'a 14 87 0 154 4\\n', 'a 14 72 0 132 30\\n', 'a 14 79 0 135 22\\n', 'a 14 44 0 44 34\\n', 'a 14 58 0 145 8\\n', 'a 14 43 0 174 15\\n', 'a 14 52 0 163 18\\n', 'a 14 8 0 207 5\\n', 'a 14 54 0 122 10\\n', 'a 14 55 0 143 7\\n', 'a 14 57 0 80 16\\n', 'a 14 78 0 163 5\\n', 'a 14 69 0 84 9\\n', 'a 14 22 0 111 9\\n', 'a 14 80 0 155 2\\n', 'a 14 41 0 155 10\\n', 'a 14 48 0 188 12\\n', 'a 14 30 0 85 4\\n', 'a 14 37 0 48 8\\n', 'a 14 15 0 45 7\\n', 'a 20 7 0 154 2\\n', 'a 20 40 0 93 35\\n', 'a 20 72 0 80 7\\n', 'a 20 65 0 82 16\\n', 'a 20 14 0 47 14\\n', 'a 20 84 0 154 1\\n', 'a 34 39 0 154 29\\n', 'a 34 44 0 113 34\\n', 'a 34 28 0 155 26\\n', 'a 34 24 0 64 26\\n', 'a 34 84 0 99 19\\n', 'a 34 63 0 138 1\\n', 'a 34 29 0 57 27\\n', 'a 34 36 0 152 13\\n', 'a 34 65 0 136 9\\n', 'a 34 46 0 91 3\\n', 'a 34 32 0 192 22\\n', 'a 34 31 0 45 20\\n', 'a 39 84 0 154 25\\n', 'a 39 51 0 86 7\\n', 'a 39 74 0 204 30\\n', 'a 39 88 0 189 10\\n', 'a 39 86 0 189 22\\n', 'a 39 53 0 135 17\\n', 'a 39 19 0 49 5\\n', 'a 39 70 0 102 23\\n', 'a 39 42 0 38 30\\n', 'a 39 76 0 151 14\\n', 'a 39 83 0 141 36\\n', 'a 39 62 0 113 9\\n', 'a 39 40 0 129 16\\n', 'a 39 85 0 198 37\\n', 'a 39 73 0 60 2\\n', 'a 39 71 0 130 13\\n', 'a 39 55 0 186 30\\n', 'a 41 55 0 154 23\\n', 'a 41 19 0 136 6\\n', 'a 41 79 0 189 36\\n', 'a 41 80 0 125 6\\n', 'a 41 77 0 146 11\\n', 'a 41 56 0 147 15\\n', 'a 41 65 0 62 8\\n', 'a 41 12 0 74 18\\n', 'a 41 13 0 52 30\\n', 'a 41 36 0 193 10\\n', 'a 41 60 0 160 8\\n', 'a 41 69 0 83 28\\n', 'a 41 31 0 187 6\\n', 'a 44 58 0 154 31\\n', 'a 44 36 0 59 27\\n', 'a 44 73 0 139 25\\n', 'a 44 81 0 174 14\\n', 'a 50 13 0 154 12\\n', 'a 50 81 0 80 37\\n', 'a 50 8 0 106 24\\n', 'a 50 31 0 140 21\\n', 'a 50 11 0 205 28\\n', 'a 50 56 0 98 34\\n', 'a 50 87 0 111 33\\n', 'a 50 69 0 66 10\\n', 'a 50 84 0 196 10\\n', 'a 50 83 0 50 21\\n', 'a 50 43 0 37 20\\n', 'a 50 33 0 62 31\\n', 'a 55 88 0 154 28\\n', 'a 55 65 0 154 23\\n', 'a 55 8 0 79 22\\n', 'a 55 30 0 69 27\\n', 'a 55 34 0 130 9\\n', 'a 58 9 0 154 14\\n', 'a 58 80 0 111 13\\n', 'a 58 15 0 68 7\\n', 'a 58 86 0 118 30\\n', 'a 58 48 0 182 1\\n', 'a 58 71 0 71 7\\n', 'a 58 57 0 125 26\\n', 'a 58 82 0 74 24\\n', 'a 58 66 0 143 1\\n', 'a 58 72 0 160 6\\n', 'a 58 69 0 57 11\\n', 'a 58 30 0 208 11\\n', 'a 58 70 0 195 3\\n', 'a 58 65 0 52 28\\n', 'a 58 43 0 159 36\\n', 'a 58 62 0 185 36\\n', 'a 58 35 0 170 25\\n', 'a 65 44 0 154 35\\n', 'a 65 29 0 87 12\\n', 'a 65 35 0 147 31\\n', 'a 65 13 0 146 32\\n', 'a 65 40 0 86 20\\n', 'a 65 59 0 60 18\\n', 'a 65 53 0 200 1\\n', 'a 65 22 0 118 18\\n', 'a 65 25 0 203 28\\n', 'a 65 12 0 138 35\\n', 'a 68 14 0 154 36\\n', 'a 68 26 0 138 30\\n', 'a 68 8 0 60 1\\n', 'a 68 48 0 161 22\\n', 'a 68 17 0 133 28\\n', 'a 68 70 0 145 32\\n', 'a 68 53 0 154 35\\n', 'a 68 82 0 194 3\\n', 'a 84 41 0 154 22\\n', 'a 84 12 0 130 3\\n', 'a 84 66 0 140 31\\n', 'a 4 56 0 91 18\\n', 'a 4 63 0 129 16\\n', 'a 4 22 0 114 28\\n', 'a 4 61 0 67 28\\n', 'a 4 31 0 182 2\\n', 'a 4 10 0 84 32\\n', 'a 4 48 0 41 3\\n', 'a 4 38 0 180 32\\n', 'a 4 65 0 36 20\\n', 'a 4 35 0 152 37\\n', 'a 4 24 0 207 21\\n', 'a 4 16 0 200 3\\n', 'a 4 72 0 110 20\\n', 'a 4 51 0 95 22\\n', 'a 4 59 0 79 33\\n', 'a 4 79 0 124 37\\n', 'a 4 33 0 64 1\\n', 'a 4 73 0 78 7\\n', 'a 4 44 0 133 25\\n', 'a 11 30 0 91 23\\n', 'a 11 46 0 203 29\\n', 'a 11 24 0 181 25\\n', 'a 11 75 0 149 23\\n', 'a 11 17 0 136 5\\n', 'a 11 83 0 122 23\\n', 'a 11 32 0 104 33\\n', 'a 11 64 0 69 12\\n', 'a 11 86 0 181 29\\n', 'a 11 77 0 118 36\\n', 'a 11 73 0 191 30\\n', 'a 11 50 0 209 19\\n', 'a 11 54 0 124 12\\n', 'a 11 28 0 124 30\\n', 'a 11 16 0 89 33\\n', 'a 11 15 0 205 7\\n', 'a 11 82 0 105 4\\n', 'a 11 13 0 61 24\\n', 'a 11 19 0 95 33\\n', 'a 17 59 0 91 29\\n', 'a 17 13 0 185 1\\n', 'a 17 68 0 106 8\\n', 'a 17 36 0 204 14\\n', 'a 17 25 0 69 31\\n', 'a 17 20 0 132 15\\n', 'a 17 35 0 148 23\\n', 'a 17 65 0 70 13\\n', 'a 17 79 0 161 10\\n', 'a 17 41 0 85 21\\n', 'a 17 86 0 158 20\\n', 'a 17 82 0 44 23\\n', 'a 27 82 0 91 32\\n', 'a 27 48 0 81 16\\n', 'a 27 11 0 134 25\\n', 'a 27 8 0 135 26\\n', 'a 27 34 0 38 37\\n', 'a 30 36 0 91 21\\n', 'a 30 29 0 50 14\\n', 'a 30 64 0 111 15\\n', 'a 30 24 0 70 9\\n', 'a 30 71 0 140 19\\n', 'a 30 59 0 106 37\\n', 'a 30 21 0 112 23\\n', 'a 30 7 0 160 5\\n', 'a 30 82 0 41 26\\n', 'a 30 85 0 65 36\\n', 'a 30 74 0 190 22\\n', 'a 30 19 0 149 24\\n', 'a 36 27 0 91 2\\n', 'a 36 55 0 156 7\\n', 'a 36 44 0 179 31\\n', 'a 36 52 0 188 2\\n', 'a 36 80 0 87 22\\n', 'a 36 26 0 137 4\\n', 'a 36 88 0 102 33\\n', 'a 36 34 0 167 19\\n', 'a 49 61 0 91 35\\n', 'a 49 26 0 145 2\\n', 'a 49 71 0 192 26\\n', 'a 49 76 0 190 3\\n', 'a 49 51 0 62 34\\n', 'a 49 31 0 180 18\\n', 'a 49 8 0 129 4\\n', 'a 49 68 0 128 2\\n', 'a 49 88 0 154 14\\n', 'a 49 24 0 187 1\\n', 'a 49 16 0 111 25\\n', 'a 49 78 0 124 32\\n', 'a 49 70 0 160 32\\n', 'a 49 66 0 131 24\\n', 'a 56 49 0 91 29\\n', 'a 56 18 0 176 24\\n', 'a 59 87 0 91 16\\n', 'a 59 22 0 181 14\\n', 'a 59 65 0 65 14\\n', 'a 59 39 0 55 10\\n', 'a 59 43 0 44 16\\n', 'a 59 21 0 138 12\\n', 'a 59 52 0 118 29\\n', 'a 59 61 0 39 22\\n', 'a 59 71 0 71 11\\n', 'a 59 31 0 62 37\\n', 'a 59 10 0 136 21\\n', 'a 59 17 0 150 4\\n', 'a 59 80 0 171 15\\n', 'a 59 44 0 99 37\\n', 'a 59 69 0 36 22\\n', 'a 59 15 0 201 9\\n', 'a 59 16 0 148 14\\n', 'a 59 24 0 145 33\\n', 'a 61 11 0 91 19\\n', 'a 61 88 0 91 27\\n', 'a 61 72 0 184 9\\n', 'a 61 42 0 121 5\\n', 'a 61 34 0 189 24\\n', 'a 61 20 0 55 35\\n', 'a 61 81 0 65 9\\n', 'a 61 64 0 81 14\\n', 'a 61 46 0 141 10\\n', 'a 61 36 0 96 34\\n', 'a 61 69 0 87 21\\n', 'a 61 76 0 112 19\\n', 'a 61 55 0 57 13\\n', 'a 61 50 0 137 2\\n', 'a 61 24 0 205 34\\n', 'a 61 66 0 122 15\\n', 'a 61 47 0 146 20\\n', 'a 61 52 0 173 33\\n', 'a 61 51 0 172 20\\n', 'a 61 38 0 45 34\\n', 'a 82 17 0 91 8\\n', 'a 82 45 0 77 22\\n', 'a 82 13 0 132 18\\n', 'a 82 62 0 42 16\\n', 'a 82 56 0 91 25\\n', 'a 82 42 0 88 8\\n', 'a 82 12 0 72 4\\n', 'a 82 77 0 124 9\\n', 'a 82 43 0 208 15\\n', 'a 82 16 0 42 33\\n', 'a 82 11 0 144 13\\n', 'a 5 35 0 137 9\\n', 'a 5 24 0 73 28\\n', 'a 5 52 0 91 17\\n', 'a 5 76 0 184 37\\n', 'a 5 55 0 183 5\\n', 'a 5 61 0 80 29\\n', 'a 5 13 0 82 36\\n', 'a 5 18 0 79 22\\n', 'a 5 53 0 49 18\\n', 'a 5 69 0 73 25\\n', 'a 5 57 0 141 16\\n', 'a 5 23 0 101 1\\n', 'a 5 66 0 105 15\\n', 'a 5 74 0 134 25\\n', 'a 5 36 0 184 8\\n', 'a 5 34 0 171 12\\n', 'a 5 84 0 109 22\\n', 'a 16 38 0 137 33\\n', 'a 16 48 0 91 29\\n', 'a 16 18 0 181 16\\n', 'a 16 41 0 96 9\\n', 'a 16 23 0 56 37\\n', 'a 16 56 0 71 2\\n', 'a 16 21 0 127 10\\n', 'a 16 36 0 90 29\\n', 'a 16 54 0 129 5\\n', 'a 16 71 0 45 28\\n', 'a 16 81 0 161 16\\n', 'a 16 50 0 45 33\\n', 'a 26 87 0 137 20\\n', 'a 26 40 0 40 28\\n', 'a 26 76 0 134 13\\n', 'a 26 9 0 127 11\\n', 'a 26 57 0 68 4\\n', 'a 26 41 0 189 10\\n', 'a 26 27 0 183 28\\n', 'a 26 28 0 123 6\\n', 'a 26 71 0 179 23\\n', 'a 26 50 0 159 15\\n', 'a 26 66 0 122 17\\n', 'a 26 73 0 81 14\\n', 'a 26 72 0 89 26\\n', 'a 26 46 0 159 1\\n', 'a 31 32 0 137 22\\n', 'a 31 88 0 187 16\\n', 'a 31 55 0 46 8\\n', 'a 31 70 0 147 13\\n', 'a 31 49 0 104 24\\n', 'a 31 18 0 162 37\\n', 'a 31 39 0 85 2\\n', 'a 31 17 0 155 23\\n', 'a 31 22 0 145 33\\n', 'a 31 68 0 83 26\\n', 'a 31 19 0 127 8\\n', 'a 32 16 0 137 31\\n', 'a 32 61 0 139 23\\n', 'a 32 25 0 62 11\\n', 'a 32 59 0 162 29\\n', 'a 32 85 0 58 33\\n', 'a 32 11 0 36 10\\n', 'a 32 80 0 63 34\\n', 'a 32 48 0 95 31\\n', 'a 32 40 0 84 22\\n', 'a 32 79 0 188 2\\n', 'a 32 45 0 160 9\\n', 'a 32 15 0 85 19\\n', 'a 32 70 0 124 5\\n', 'a 35 63 0 137 18\\n', 'a 35 72 0 185 26\\n', 'a 35 58 0 146 14\\n', 'a 35 24 0 152 24\\n', 'a 35 86 0 111 17\\n', 'a 35 22 0 182 1\\n', 'a 35 88 0 112 8\\n', 'a 35 74 0 202 25\\n', 'a 35 79 0 81 3\\n', 'a 35 37 0 181 34\\n', 'a 35 43 0 44 32\\n', 'a 35 23 0 178 10\\n', 'a 35 66 0 75 32\\n', 'a 35 55 0 117 18\\n', 'a 35 85 0 171 6\\n', 'a 38 45 0 137 30\\n', 'a 38 88 0 137 8\\n', 'a 38 37 0 121 2\\n', 'a 38 71 0 123 34\\n', 'a 38 75 0 105 17\\n', 'a 45 78 0 137 20\\n', 'a 45 71 0 164 25\\n', 'a 45 50 0 82 8\\n', 'a 45 66 0 66 23\\n', 'a 45 49 0 153 27\\n', 'a 46 31 0 137 2\\n', 'a 46 8 0 144 23\\n', 'a 46 25 0 117 25\\n', 'a 46 73 0 162 27\\n', 'a 46 37 0 37 9\\n', 'a 46 54 0 62 25\\n', 'a 46 19 0 182 15\\n', 'a 46 15 0 196 23\\n', 'a 46 65 0 144 25\\n', 'a 46 27 0 193 29\\n', 'a 46 80 0 143 32\\n', 'a 46 38 0 160 7\\n', 'a 46 50 0 86 22\\n', 'a 46 55 0 118 29\\n', 'a 46 61 0 66 7\\n', 'a 46 77 0 186 3\\n', 'a 46 76 0 171 4\\n', 'a 46 43 0 203 24\\n', 'a 46 58 0 86 8\\n', 'a 46 13 0 40 17\\n', 'a 46 35 0 209 29\\n', 'a 46 56 0 194 2\\n', 'a 47 26 0 137 31\\n', 'a 47 84 0 147 30\\n', 'a 47 31 0 132 23\\n', 'a 47 11 0 146 36\\n', 'a 47 77 0 125 25\\n', 'a 47 21 0 54 28\\n', 'a 47 73 0 135 21\\n', 'a 47 78 0 133 36\\n', 'a 47 58 0 205 20\\n', 'a 47 72 0 130 24\\n', 'a 47 74 0 78 32\\n', 'a 47 61 0 130 22\\n', 'a 47 53 0 168 22\\n', 'a 47 29 0 145 12\\n', 'a 47 17 0 39 32\\n', 'a 63 67 0 137 7\\n', 'a 63 88 0 100 24\\n', 'a 63 10 0 90 29\\n', 'a 63 33 0 109 25\\n', 'a 63 53 0 148 9\\n', 'a 63 20 0 138 22\\n', 'a 63 23 0 109 14\\n', 'a 63 77 0 202 6\\n', 'a 63 28 0 147 9\\n', 'a 63 19 0 79 30\\n', 'a 63 45 0 98 9\\n', 'a 63 35 0 133 18\\n', 'a 63 70 0 83 32\\n', 'a 63 18 0 145 20\\n', 'a 63 21 0 131 7\\n', 'a 67 46 0 137 19\\n', 'a 67 24 0 67 7\\n', 'a 67 88 0 192 25\\n', 'a 67 33 0 81 27\\n', 'a 78 81 0 137 32\\n', 'a 78 86 0 59 21\\n', 'a 78 30 0 94 12\\n', 'a 78 25 0 198 2\\n', 'a 78 40 0 153 16\\n', 'a 78 33 0 182 3\\n', 'a 78 65 0 85 1\\n', 'a 78 55 0 71 33\\n', 'a 78 36 0 168 21\\n', 'a 78 28 0 185 31\\n', 'a 78 41 0 43 31\\n', 'a 78 37 0 66 20\\n', 'a 78 63 0 139 30\\n', 'a 78 60 0 153 10\\n', 'a 78 57 0 65 8\\n', 'a 78 17 0 163 32\\n', 'a 78 15 0 144 22\\n', 'a 78 27 0 119 14\\n', 'a 78 26 0 182 35\\n', 'a 78 34 0 191 30\\n', 'a 78 84 0 80 3\\n', 'a 78 76 0 62 5\\n', 'a 78 58 0 94 1\\n', 'a 78 38 0 106 6\\n', 'a 81 47 0 137 3\\n', 'a 81 20 0 110 14\\n', 'a 81 58 0 163 18\\n', 'a 81 34 0 82 37\\n', 'a 81 88 0 61 14\\n', 'a 81 21 0 100 11\\n', 'a 81 44 0 94 26\\n', 'a 81 32 0 168 34\\n', 'a 81 51 0 129 7\\n', 'a 81 45 0 127 8\\n', 'a 81 19 0 138 15\\n', 'a 81 83 0 60 26\\n', 'a 81 79 0 84 28\\n', 'a 81 24 0 111 8\\n', 'a 81 76 0 85 19\\n', 'a 81 67 0 71 19\\n', 'a 81 14 0 114 22\\n', 'a 6 76 0 69 26\\n', 'a 6 58 0 100 23\\n', 'a 6 70 0 133 8\\n', 'a 6 11 0 56 9\\n', 'a 6 47 0 79 24\\n', 'a 12 51 0 69 10\\n', 'a 12 47 0 163 20\\n', 'a 19 28 0 69 10\\n', 'a 19 74 0 99 13\\n', 'a 19 69 0 208 28\\n', 'a 28 87 0 69 31\\n', 'a 28 58 0 167 18\\n', 'a 28 84 0 114 14\\n', 'a 28 71 0 95 23\\n', 'a 28 75 0 191 25\\n', 'a 28 55 0 143 27\\n', 'a 28 43 0 140 17\\n', 'a 28 76 0 156 13\\n', 'a 28 83 0 143 28\\n', 'a 28 11 0 108 7\\n', 'a 28 9 0 109 22\\n', 'a 28 29 0 205 18\\n', 'a 28 56 0 188 15\\n', 'a 28 15 0 93 24\\n', 'a 28 64 0 89 10\\n', 'a 51 89 0 69 10\\n', 'a 51 66 0 69 19\\n', 'a 51 81 0 152 37\\n', 'a 51 54 0 67 35\\n', 'a 51 75 0 86 6\\n', 'a 51 53 0 69 4\\n', 'a 51 43 0 153 19\\n', 'a 51 21 0 46 35\\n', 'a 51 22 0 75 35\\n', 'a 51 17 0 143 37\\n', 'a 51 70 0 115 16\\n', 'a 51 44 0 45 7\\n', 'a 51 34 0 179 34\\n', 'a 51 84 0 158 33\\n', 'a 51 25 0 141 26\\n', 'a 51 85 0 109 3\\n', 'a 51 50 0 197 8\\n', 'a 51 24 0 108 26\\n', 'a 51 52 0 40 19\\n', 'a 51 72 0 88 24\\n', 'a 66 77 0 69 28\\n', 'a 66 88 0 69 21\\n', 'a 66 68 0 146 30\\n', 'a 66 86 0 167 24\\n', 'a 72 12 0 69 16\\n', 'a 72 74 0 184 37\\n', 'a 72 14 0 135 34\\n', 'a 72 11 0 179 35\\n', 'a 76 72 0 69 18\\n', 'a 76 43 0 82 30\\n', 'a 76 71 0 191 2\\n', 'a 76 59 0 49 32\\n', 'a 76 16 0 117 2\\n', 'a 76 28 0 107 16\\n', 'a 76 8 0 207 26\\n', 'a 76 45 0 204 12\\n', 'a 76 40 0 116 14\\n', 'a 76 44 0 119 1\\n', 'a 76 19 0 152 35\\n', 'a 76 55 0 177 36\\n', 'a 76 12 0 166 21\\n', 'a 76 50 0 69 29\\n', 'a 76 86 0 116 3\\n', 'a 76 84 0 93 21\\n', 'a 76 26 0 95 36\\n', 'a 77 19 0 69 27\\n', 'a 77 51 0 98 1\\n', 'a 77 41 0 122 31\\n', 'a 77 79 0 84 5\\n', 'a 77 88 0 183 33\\n', 'a 77 13 0 89 20\\n', 'a 77 75 0 66 10\\n', 'a 77 69 0 83 1\\n', 'a 77 47 0 192 6\\n', 'a 77 22 0 60 11\\n', 'a 77 35 0 38 16\\n', 'a 77 86 0 85 23\\n', 'a 77 10 0 65 27\\n', 'a 77 7 0 136 21\\n', 'a 77 73 0 145 21\\n', 'a 77 44 0 44 10\\n', 'a 77 45 0 181 29\\n', 'a 77 52 0 131 35\\n', 'a 77 57 0 57 17\\n', 'a 77 82 0 158 12\\n', 'a 77 49 0 151 30\\n', 'a 77 64 0 37 15\\n', 'a 77 16 0 91 34\\n', 'a 77 33 0 205 19\\n', 'a 77 60 0 204 27\\n', 'a 77 37 0 188 24\\n', 'a 77 56 0 100 25\\n', 'a 77 21 0 139 19\\n', 'a 77 78 0 138 7\\n', 'a 77 9 0 202 20\\n', 'a 77 30 0 143 30\\n', 'a 77 72 0 195 32\\n', 'a 77 53 0 188 34\\n', 'a 77 83 0 174 35\\n', 'a 77 76 0 175 29\\n']\n"
          ]
        }
      ]
    },
    {
      "cell_type": "code",
      "source": [
        "m = 0   #Number of nodes\n",
        "n = 0   #Number of edges\n",
        "b = []  #Vector with capacities of nodes\n",
        "E = []  #Incidence matrix of the graph\n",
        "u = []  #Right box constraints\n",
        "\n",
        "arc_index = 0\n",
        "\n",
        "for l in lines:\n",
        "  # p contains the definition of the problem\n",
        "  if l[0] == 'p':\n",
        "    w = l.split()\n",
        "\n",
        "    # w[2] has the number of nodes\n",
        "    m = int(w[2])\n",
        "\n",
        "    # w[3] has the number of edges\n",
        "    n = int(w[3])\n",
        "    b = np.zeros(m, dtype=float)\n",
        "    E = np.zeros((m, n), dtype=float)\n",
        "    u = np.zeros(n, dtype=float)\n",
        "\n",
        "    # n contains the properties of nodes\n",
        "  elif l[0] == 'n':\n",
        "    w = l.split()\n",
        "\n",
        "    # w[1] is the id of the node, w[2] is the capacity b of the node\n",
        "    b[int(w[1])-1] = float(w[2])\n",
        "\n",
        "    # a contains the properties of edges\n",
        "  elif l[0] == 'a':\n",
        "     w = l.split()\n",
        "\n",
        "     # w[1] is the id of the node from where the edge start\n",
        "     E[int(w[1])-1, arc_index] = -1\n",
        "\n",
        "     # w[2] is the id of the node where the edge is directed\n",
        "     E[int(w[2])-1, arc_index] = 1\n",
        "\n",
        "     # w[4] is the maximum capacity of the edge\n",
        "     u[arc_index] = float(w[4])\n",
        "\n",
        "     # arc_index is an id for edges\n",
        "     arc_index = arc_index+1\n",
        "\n",
        "\n"
      ],
      "metadata": {
        "id": "Y3fRuS_gPhIJ"
      },
      "execution_count": 7,
      "outputs": []
    },
    {
      "cell_type": "markdown",
      "source": [
        "### Vector b"
      ],
      "metadata": {
        "id": "SfT_Mo6sBFkD"
      }
    },
    {
      "cell_type": "code",
      "source": [
        "print(m,n)\n",
        "print(b.shape)\n",
        "plt.hist(u, bins='auto')\n",
        "plt.show()"
      ],
      "metadata": {
        "colab": {
          "base_uri": "https://localhost:8080/",
          "height": 300
        },
        "id": "-dkDvdOVSrFH",
        "outputId": "86132731-a14c-48ef-c999-c3089ecf3002"
      },
      "execution_count": 8,
      "outputs": [
        {
          "output_type": "stream",
          "name": "stdout",
          "text": [
            "89 1000\n",
            "(89,)\n"
          ]
        },
        {
          "output_type": "display_data",
          "data": {
            "text/plain": [
              "<Figure size 432x288 with 1 Axes>"
            ],
            "image/png": "[encoded data removed]"
          },
          "metadata": {
            "needs_background": "light"
          }
        }
      ]
    },
    {
      "cell_type": "markdown",
      "source": [
        "### Vector u"
      ],
      "metadata": {
        "id": "sRcDnj5cBT3F"
      }
    },
    {
      "cell_type": "code",
      "source": [
        "print(u.shape)\n",
        "plt.hist(u, bins='auto')\n",
        "plt.show()"
      ],
      "metadata": {
        "colab": {
          "base_uri": "https://localhost:8080/",
          "height": 282
        },
        "id": "qg6LQy2MBKMb",
        "outputId": "97bf1dec-7f06-4374-d92e-ded6cfbf5370"
      },
      "execution_count": 9,
      "outputs": [
        {
          "output_type": "stream",
          "name": "stdout",
          "text": [
            "(1000,)\n"
          ]
        },
        {
          "output_type": "display_data",
          "data": {
            "text/plain": [
              "<Figure size 432x288 with 1 Axes>"
            ],
            "image/png": "[encoded data removed]"
          },
          "metadata": {
            "needs_background": "light"
          }
        }
      ]
    },
    {
      "cell_type": "markdown",
      "source": [
        "### Incidence matrix E"
      ],
      "metadata": {
        "id": "ZWP88OCVBWq3"
      }
    },
    {
      "cell_type": "code",
      "source": [
        "print(E.shape)\n",
        "plt.figure(figsize=(20, 20))\n",
        "plt.spy(E, markersize=0.5)"
      ],
      "metadata": {
        "colab": {
          "base_uri": "https://localhost:8080/",
          "height": 186
        },
        "id": "DimxiYXBUnr0",
        "outputId": "065c8cd7-d212-4225-fb44-803dc40ce80b"
      },
      "execution_count": 10,
      "outputs": [
        {
          "output_type": "stream",
          "name": "stdout",
          "text": [
            "(89, 1000)\n"
          ]
        },
        {
          "output_type": "execute_result",
          "data": {
            "text/plain": [
              "<matplotlib.lines.Line2D at 0x7f709dce2410>"
            ]
          },
          "metadata": {},
          "execution_count": 10
        },
        {
          "output_type": "display_data",
          "data": {
            "text/plain": [
              "<Figure size 1440x1440 with 1 Axes>"
            ],
            "image/png": "[encoded data removed]"
          },
          "metadata": {
            "needs_background": "light"
          }
        }
      ]
    },
    {
      "cell_type": "code",
      "source": [
        "# Number of disconnected nodes to check if the graph is connected\n",
        "disconnected_nodes = 0\n",
        "for col in E:\n",
        "  if len(np.nonzero(col)[0]) == 0:\n",
        "    disconnected_nodes = disconnected_nodes+1\n",
        "\n",
        "print(disconnected_nodes)"
      ],
      "metadata": {
        "colab": {
          "base_uri": "https://localhost:8080/"
        },
        "id": "w0roNAGTVFTx",
        "outputId": "1adb6744-5a44-4ac6-abbd-679c25ff19dc"
      },
      "execution_count": 12,
      "outputs": [
        {
          "output_type": "stream",
          "name": "stdout",
          "text": [
            "0\n"
          ]
        }
      ]
    },
    {
      "cell_type": "markdown",
      "source": [
        "## Read .qfc which contains the problem definitions: Q, q"
      ],
      "metadata": {
        "id": "Ravt8SKQBfPE"
      }
    },
    {
      "cell_type": "code",
      "source": [
        "with open(QFC) as f:\n",
        "    lines = f.readlines()"
      ],
      "metadata": {
        "id": "HWjWlZVFVi27"
      },
      "execution_count": 13,
      "outputs": []
    },
    {
      "cell_type": "code",
      "source": [
        "q = np.array(lines[1].split(), dtype=float)\n",
        "Q = np.array(lines[2].split(), dtype=float)"
      ],
      "metadata": {
        "id": "7hWevC3LVpeL"
      },
      "execution_count": 14,
      "outputs": []
    },
    {
      "cell_type": "code",
      "source": [
        "print(q.shape)\n",
        "plt.hist(q, bins='auto')\n",
        "plt.show()"
      ],
      "metadata": {
        "colab": {
          "base_uri": "https://localhost:8080/",
          "height": 282
        },
        "id": "CFzK8w5MWXMA",
        "outputId": "66aba292-d306-43c1-c3fe-20dd7d3a3b25"
      },
      "execution_count": 15,
      "outputs": [
        {
          "output_type": "stream",
          "name": "stdout",
          "text": [
            "(1000,)\n"
          ]
        },
        {
          "output_type": "display_data",
          "data": {
            "text/plain": [
              "<Figure size 432x288 with 1 Axes>"
            ],
            "image/png": "[encoded data removed]"
          },
          "metadata": {
            "needs_background": "light"
          }
        }
      ]
    },
    {
      "cell_type": "code",
      "source": [
        "plt.title('Distribution of q')\n",
        "plt.xlabel('i-th q')\n",
        "plt.ylabel('log(q_i)')\n",
        "plt.yscale('log')\n",
        "plt.plot(np.sort(q))\n",
        "plt.show()"
      ],
      "metadata": {
        "colab": {
          "base_uri": "https://localhost:8080/",
          "height": 295
        },
        "id": "P55HJ9e6CbA5",
        "outputId": "bc7fd66c-5ee3-4819-9897-a682c05a84e9"
      },
      "execution_count": 23,
      "outputs": [
        {
          "output_type": "display_data",
          "data": {
            "text/plain": [
              "<Figure size 432x288 with 1 Axes>"
            ],
            "image/png": "[encoded data removed]"
          },
          "metadata": {
            "needs_background": "light"
          }
        }
      ]
    },
    {
      "cell_type": "code",
      "source": [
        "print(Q.shape)\n",
        "plt.hist(Q, bins='auto')\n",
        "plt.show()"
      ],
      "metadata": {
        "colab": {
          "base_uri": "https://localhost:8080/",
          "height": 265
        },
        "id": "_XSi4nfeYkwK",
        "outputId": "15fb00a2-ac25-41b8-f90e-1b2ff4de5fa8"
      },
      "execution_count": null,
      "outputs": [
        {
          "output_type": "display_data",
          "data": {
            "text/plain": [
              "<Figure size 432x288 with 1 Axes>"
            ],
            "image/png": "[encoded data removed]"
          },
          "metadata": {
            "needs_background": "light"
          }
        }
      ]
    },
    {
      "cell_type": "code",
      "source": [
        "plt.title('Distribution of q')\n",
        "plt.xlabel('i-th q')\n",
        "plt.ylabel('log(q_i)')\n",
        "plt.yscale('log')\n",
        "plt.plot(np.sort(Q))\n",
        "plt.show()"
      ],
      "metadata": {
        "colab": {
          "base_uri": "https://localhost:8080/",
          "height": 295
        },
        "id": "R67zUNruFBbU",
        "outputId": "227cfec6-fd2c-44f0-9d5f-0d215cabe161"
      },
      "execution_count": 22,
      "outputs": [
        {
          "output_type": "display_data",
          "data": {
            "text/plain": [
              "<Figure size 432x288 with 1 Axes>"
            ],
            "image/png": "[encoded data removed]"
          },
          "metadata": {
            "needs_background": "light"
          }
        }
      ]
    },
    {
      "cell_type": "markdown",
      "source": [
        "## Save problem .mat"
      ],
      "metadata": {
        "id": "dIrMhLC-BwIz"
      }
    },
    {
      "cell_type": "code",
      "source": [
        "assert disconnected_nodes == 0, 'check graph G'\n",
        "assert m == E.shape[0], 'check E shape'\n",
        "assert n == E.shape[1], 'check E shape'\n",
        "assert n == u.shape[0], 'check u shape'\n",
        "assert m == b.shape[0], 'check b shape'\n",
        "assert n == Q.shape[0], 'check Q shape'\n",
        "assert n == q.shape[0], 'check q shape'"
      ],
      "metadata": {
        "id": "zMk5Q36vBu4I"
      },
      "execution_count": 24,
      "outputs": []
    },
    {
      "cell_type": "code",
      "source": [
        "io.savemat(MCF, {'E':E, 'u':u, 'b':b, 'Q':Q, 'q':q})"
      ],
      "metadata": {
        "id": "03G_08RwWiXo"
      },
      "execution_count": 27,
      "outputs": []
    }
  ]
}